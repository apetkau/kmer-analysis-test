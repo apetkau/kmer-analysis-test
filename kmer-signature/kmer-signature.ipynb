{
 "cells": [
  {
   "cell_type": "markdown",
   "metadata": {},
   "source": [
    "# Get signature/canonical k-mers from MLST scheme"
   ]
  },
  {
   "cell_type": "code",
   "execution_count": 52,
   "metadata": {},
   "outputs": [
    {
     "name": "stdout",
     "output_type": "stream",
     "text": [
      "{'aspA_1': {'AG', 'AC', 'AA', 'CG', 'GC', 'GA', 'CA', 'CC', 'TA', 'AT'}}\n"
     ]
    }
   ],
   "source": [
    "from pathlib import Path\n",
    "from Bio import SeqIO\n",
    "from Bio.Seq import reverse_complement\n",
    "import sys\n",
    "\n",
    "def canonical_kmer(kmer):\n",
    "    kmer_upper = kmer.upper()\n",
    "    kmer_rc = reverse_complement(kmer_upper)\n",
    "    if kmer_upper < kmer_rc:\n",
    "        return kmer_upper\n",
    "    else:\n",
    "        return kmer_rc\n",
    "\n",
    "def load_kmers(file_path: Path, kmer_size):\n",
    "    kmer_table = {}\n",
    "        \n",
    "    with open(file_path, \"r\") as file:\n",
    "        for record in SeqIO.parse(file, 'fasta'):\n",
    "            allele = str(record.id)\n",
    "            sequence = str(record.seq)\n",
    "            seq_length = len(sequence)\n",
    "            \n",
    "            max_start = seq_length - kmer_size + 1\n",
    "            \n",
    "            if max_start <= 0:\n",
    "                raise Exception(f\"Cannot extract any kmers from ({file}, {allele}): kmer size {kmer_size} longer than allele length {seq_length}\")\n",
    "\n",
    "            for start in range(0, max_start):\n",
    "                stop = start + kmer_size\n",
    "\n",
    "                kmer = canonical_kmer(sequence[start : stop])\n",
    "                \n",
    "                kmer_table.setdefault(allele, set()).add(kmer)\n",
    "                \n",
    "    return kmer_table\n",
    "                \n",
    "kmer_table = load_kmers('aspA-1.fas', 2)\n",
    "print(kmer_table)"
   ]
  },
  {
   "cell_type": "code",
   "execution_count": 67,
   "metadata": {},
   "outputs": [
    {
     "name": "stdout",
     "output_type": "stream",
     "text": [
      "Kmers in (1,2) = (457, 457)\n",
      "Kmers in union = 543\n",
      "Kmers in intersection = 371\n",
      "Unique kmers aspA_1 = 86\n",
      "Unique kmers aspA_2 = 86\n",
      "Unique kmers in aspA_1 = {'CTGCTTAAAAGTCTTAAGTCA', 'ATGACTTAAGACTTTTAAGCA', 'AGTTACAGTTACATCTGCTCC', 'ACTTTTAAGCAGTGGTCCAAA', 'CCTCGATCAAATCCTCAGCCA', 'AATGACTTAAGACTTTTAAGC', 'CTGAGGATTTGATCGAGGCGA', 'ATCAAATCCTCAGCCACAGTA', 'GTTACAGTTACATCTGCTCCA', 'ATTGGAGCAGATGTAACTGTA', 'GAACTGCTATTGGAACGGGAA', 'CAGGATGAGAATTAATTCCCG', 'ATACTGTGGCTGAGGATTTGA', 'AAGCAGTGGTCCAAAATGTGG', 'CCCGTTCCAATAGCAGTTCCA', 'GGATTTGATCGAGGCGACTCA', 'ATTTTGGACCACTGCTTAAAA', 'AATGTTTTTGAACCAGTTGCA', 'TGAGAATTAATTCCCGTTCCA', 'CCGTTCCAATAGCAGTTCCAC', 'GGAACTGCTATTGGAACGGGA', 'GGGAATTAATTCTCATCCTGA', 'ATGAGAATTAATTCCCGTTCC', 'ACTTAAGACTTTTAAGCAGTG', 'GATTTGATCGAGGCGACTCAA', 'AAGTTACAGTTACATCTGCTC', 'AACTGCTATTGGAACGGGAAT', 'GTCGCCTCGATCAAATCCTCA', 'TGCTATTGGAACGGGAATTAA', 'ACTGTGGCTGAGGATTTGATC', 'CAGTTACATCTGCTCCAATAA', 'ATCTGCTCCAATAACAAAATA', 'CTGCTATTGGAACGGGAATTA', 'GATCGAGGCGACTCAAGATAC', 'CGCCTCGATCAAATCCTCAGC', 'TTACATCTGCTCCAATAACAA', 'ACTGCTTAAAAGTCTTAAGTC', 'AAAGTTACAGTTACATCTGCT', 'ATCTTGAGTCGCCTCGATCAA', 'CAAATCCTCAGCCACAGTATA', 'ACATTTTGGACCACTGCTTAA', 'GACTTTTAAGCAGTGGTCCAA', 'TTACAGTTACATCTGCTCCAA', 'CGATCAAATCCTCAGCCACAG', 'AGTCGCCTCGATCAAATCCTC', 'GACCACATTTTGGACCACTGC', 'TATCTTGAGTCGCCTCGATCA', 'ATTAATTCCCGTTCCAATAGC', 'CAAAAGTTACAGTTACATCTG', 'TCGATCAAATCCTCAGCCACA', 'GAGAATTAATTCCCGTTCCAA', 'ACCACTGCTTAAAAGTCTTAA', 'AGATGTAACTGTAACTTTTGC', 'CACATTTTGGACCACTGCTTA', 'CTTTTAAGCAGTGGTCCAAAA', 'CAAGCAAAAGTTACAGTTACA', 'AGGATTTGATCGAGGCGACTC', 'GCCTCGATCAAATCCTCAGCC', 'AACGGGAATTAATTCTCATCC', 'TCTTGAGTCGCCTCGATCAAA', 'AGACTTTTAAGCAGTGGTCCA', 'ACCACATTTTGGACCACTGCT', 'ACGGGAATTAATTCTCATCCT', 'TACATCTGCTCCAATAACAAA', 'ACATCTGCTCCAATAACAAAA', 'AATTCCCGTTCCAATAGCAGT', 'GTTACATCTGCTCCAATAACA', 'CTCGATCAAATCCTCAGCCAC', 'ATTTTGTTATTGGAGCAGATG', 'AAAAGTTACAGTTACATCTGC', 'AGAATTAATTCCCGTTCCAAT', 'AATTAATTCCCGTTCCAATAG', 'ATTTGATCGAGGCGACTCAAG', 'AAGCAAAAGTTACAGTTACAT', 'CATTTTGGACCACTGCTTAAA', 'AGTTACATCTGCTCCAATAAC', 'GAACGGGAATTAATTCTCATC', 'CGTTCCAATAGCAGTTCCACC', 'GAATTAATTCCCGTTCCAATA', 'AAGACTTTTAAGCAGTGGTCC', 'AGCAAAAGTTACAGTTACATC', 'GACCACTGCTTAAAAGTCTTA', 'GCAACTGGTTCAAAAACATTA', 'ACAGTTACATCTGCTCCAATA', 'AGACCACATTTTGGACCACTG', 'CCACTGCTTAAAAGTCTTAAG'}\n"
     ]
    }
   ],
   "source": [
    "allele_kmers = load_kmers('aspA-2.fas', 21)\n",
    "aspA_1 = allele_kmers['aspA_1']\n",
    "aspA_2 = allele_kmers['aspA_2']\n",
    "\n",
    "print(f\"Kmers in (1,2) = ({len(aspA_1)}, {len(aspA_2)})\")\n",
    "print(f\"Kmers in union = {len(aspA_1 | aspA_2)}\")\n",
    "print(f\"Kmers in intersection = {len(aspA_1 & aspA_2)}\")\n",
    "print(f\"Unique kmers aspA_1 = {len(aspA_1 - aspA_2)}\")\n",
    "print(f\"Unique kmers aspA_2 = {len(aspA_2 - aspA_1)}\")\n",
    "print(f\"Unique kmers in aspA_1 = {aspA_1 - aspA_2}\")"
   ]
  }
 ],
 "metadata": {
  "kernelspec": {
   "display_name": "Python 3",
   "language": "python",
   "name": "python3"
  },
  "language_info": {
   "codemirror_mode": {
    "name": "ipython",
    "version": 3
   },
   "file_extension": ".py",
   "mimetype": "text/x-python",
   "name": "python",
   "nbconvert_exporter": "python",
   "pygments_lexer": "ipython3",
   "version": "3.7.1"
  }
 },
 "nbformat": 4,
 "nbformat_minor": 2
}
