{
 "cells": [
  {
   "cell_type": "code",
   "execution_count": 1,
   "metadata": {},
   "outputs": [],
   "source": [
    "PROJECT_DIR=`git rev-parse --show-toplevel`\n",
    "cd $PROJECT_DIR/kmer-mlst"
   ]
  },
  {
   "cell_type": "markdown",
   "metadata": {},
   "source": [
    "# Get MLST profiles"
   ]
  },
  {
   "cell_type": "code",
   "execution_count": 2,
   "metadata": {},
   "outputs": [
    {
     "name": "stdout",
     "output_type": "stream",
     "text": [
      "--2020-01-18 15:57:29--  https://pubmlst.org/data/alleles/senterica/aroC.tfa\n",
      "Resolving pubmlst.org (pubmlst.org)... 129.67.24.31\n",
      "Connecting to pubmlst.org (pubmlst.org)|129.67.24.31|:443... connected.\n",
      "HTTP request sent, awaiting response... 200 OK\n",
      "Length: 511143 (499K)\n",
      "Saving to: ‘aroC.tfa’\n",
      "\n",
      "aroC.tfa            100%[===================>] 499.16K   856KB/s    in 0.6s    \n",
      "\n",
      "2020-01-18 15:57:30 (856 KB/s) - ‘aroC.tfa’ saved [511143/511143]\n",
      "\n"
     ]
    }
   ],
   "source": [
    "wget https://pubmlst.org/data/alleles/senterica/aroC.tfa"
   ]
  },
  {
   "cell_type": "code",
   "execution_count": 7,
   "metadata": {},
   "outputs": [
    {
     "name": "stdout",
     "output_type": "stream",
     "text": [
      "500K\taroC.tfa\n"
     ]
    }
   ],
   "source": [
    "du -sh aroC.tfa"
   ]
  },
  {
   "cell_type": "markdown",
   "metadata": {},
   "source": [
    "Pick first 10 alleles from this file."
   ]
  },
  {
   "cell_type": "code",
   "execution_count": 12,
   "metadata": {},
   "outputs": [],
   "source": [
    "head -n 100 aroC.tfa > aroC-10.fasta"
   ]
  },
  {
   "cell_type": "markdown",
   "metadata": {},
   "source": [
    "Align everything with clustalomega."
   ]
  },
  {
   "cell_type": "code",
   "execution_count": 58,
   "metadata": {},
   "outputs": [],
   "source": [
    "conda run --name clustalo clustalo -i aroC-10.fasta -o aroC-10.aligned.fasta --force\n",
    "conda run --name clustalo clustalo -i aroC-10.fasta --outfmt phylip -o aroC-10.aligned.phy --force"
   ]
  },
  {
   "cell_type": "markdown",
   "metadata": {},
   "source": [
    "Also build phylogenetic tree."
   ]
  },
  {
   "cell_type": "code",
   "execution_count": 61,
   "metadata": {},
   "outputs": [
    {
     "name": "stdout",
     "output_type": "stream",
     "text": [
      "\n",
      "\n",
      ". Command line: phyml -i aroC-10.aligned.phy \n"
     ]
    }
   ],
   "source": [
    "conda run --name phyml phyml -i aroC-10.aligned.phy | head -n 3"
   ]
  },
  {
   "cell_type": "code",
   "execution_count": 63,
   "metadata": {},
   "outputs": [
    {
     "name": "stdout",
     "output_type": "stream",
     "text": [
      "(aroC_9:0.00635288,aroC_3:0.00206180,(aroC_6:0.00208228,(aroC_2:0.00000001,(aroC_1:0.00866459,(aroC_10:0.00000001,(aroC_4:0.00000001,(aroC_5:0.00423962,(aroC_8:0.00417796,aroC_7:0.00000001)0.000000:0.00000001)0.962873:0.00207799)0.977224:0.00207798)0.791440:0.00209504)0.791428:0.00209499)0.879313:0.00209523)0.991691:0.00428820);\n"
     ]
    }
   ],
   "source": [
    "cat aroC-10.aligned.phy_phyml_tree.txt"
   ]
  },
  {
   "cell_type": "code",
   "execution_count": 95,
   "metadata": {},
   "outputs": [
    {
     "name": "stdout",
     "output_type": "stream",
     "text": [
      "SingleLetterAlphabet() alignment with 10 rows and 501 columns\n",
      "GTTTTTCGCCCGGGACACGCGGATTACACCTATGAGCAGAAATA...GGT aroC_1\n",
      "GTTTTTCGTCCGGGACACGCGGATTACACCTATGAGCAGAAATA...GGT aroC_2\n",
      "GTTTTTCGTCCGGGACACGCGGATTACACCTATGAGCAGAAATA...GGT aroC_3\n",
      "GTTTTTCGTCCGGGACACGCGGATTACACCTATGAGCAGAAATA...GGT aroC_4\n",
      "GTTTTTCGTCCGGGACACGCGGATTACACCTATGAGCAGAAATA...GGT aroC_5\n",
      "GTTTTTCGTCCGGGACACGCGGATTACACCTATGAGCAGAAATA...GGT aroC_6\n",
      "GTTTTTCGTCCGGGACACGCGGATTACACCTATGAGCAGAAATA...GGT aroC_7\n",
      "GTTTTTCGTCCGGGACACGCGGATTACACCTATGAGCAGAAATA...GGT aroC_8\n",
      "GTTTTTCGTCCGGGACACGCGGATTACACCTATGAGCAGAAATA...GGT aroC_9\n",
      "GTTTTTCGTCCGGGACACGCGGATTACACCTATGAGCAGAAATA...GGT aroC_10\n"
     ]
    }
   ],
   "source": [
    "python -c '\n",
    "from Bio import AlignIO\n",
    "align = AlignIO.read(\"aroC-10.aligned.fasta\", \"fasta\")\n",
    "print(align)\n",
    "'"
   ]
  },
  {
   "cell_type": "code",
   "execution_count": 97,
   "metadata": {},
   "outputs": [
    {
     "name": "stdout",
     "output_type": "stream",
     "text": [
      "Position 8\n",
      "\tGTTTTTCGCCCGGGACACGCGGATTACACCT\n",
      "\t\taroC_1\n",
      "\tGTTTTTCGTCCGGGACACGCGGATTACACCT\n",
      "\t\taroC_2\n",
      "\t\taroC_3\n",
      "\t\taroC_4\n",
      "\t\taroC_5\n",
      "\t\taroC_6\n",
      "\t\taroC_7\n",
      "\t\taroC_8\n",
      "\t\taroC_9\n",
      "\t\taroC_10\n",
      "Position 53\n",
      "\tGAAATACGGCCTGCGCGATTACCGCGGCGGT\n",
      "\t\taroC_1\n",
      "\tGAAATACGGCCTGCGCGATTACCGTGGCGGT\n",
      "\t\taroC_2\n",
      "\t\taroC_4\n",
      "\t\taroC_5\n",
      "\t\taroC_6\n",
      "\t\taroC_7\n",
      "\t\taroC_8\n",
      "\t\taroC_10\n",
      "\tGAAATACGGCCTGCGTGATTACCGTGGCGGT\n",
      "\t\taroC_3\n",
      "\t\taroC_9\n",
      "Position 62\n",
      "\tCCTGCGCGATTACCGCGGCGGTGGACGTTCT\n",
      "\t\taroC_1\n",
      "\tCCTGCGCGATTACCGTGGCGGTGGACGTTCT\n",
      "\t\taroC_2\n",
      "\t\taroC_4\n",
      "\t\taroC_5\n",
      "\t\taroC_6\n",
      "\t\taroC_7\n",
      "\t\taroC_8\n",
      "\t\taroC_10\n",
      "\tCCTGCGTGATTACCGTGGCGGTGGACGTTCT\n",
      "\t\taroC_3\n",
      "\t\taroC_9\n",
      "Position 119\n",
      "\tAGCGGCAGGGGCGATCGCCAAGAAATACTTG\n",
      "\t\taroC_1\n",
      "\tAGCGGCAGGGGCGATCGCCAAGAAATACCTG\n",
      "\t\taroC_2\n",
      "\t\taroC_4\n",
      "\t\taroC_5\n",
      "\t\taroC_6\n",
      "\t\taroC_7\n",
      "\t\taroC_8\n",
      "\t\taroC_10\n",
      "\tAGCGGCAGGGGCGATTGCCAAGAAATACCTG\n",
      "\t\taroC_3\n",
      "\t\taroC_9\n",
      "Position 132\n",
      "\tATCGCCAAGAAATACTTGGCGGAAAAGTTCG\n",
      "\t\taroC_1\n",
      "\tATCGCCAAGAAATACCTGGCGGAAAAGTTCG\n",
      "\t\taroC_2\n",
      "\t\taroC_4\n",
      "\t\taroC_5\n",
      "\t\taroC_6\n",
      "\t\taroC_7\n",
      "\t\taroC_8\n",
      "\t\taroC_10\n",
      "\tATTGCCAAGAAATACCTGGCGGAAAAGTTCG\n",
      "\t\taroC_3\n",
      "\t\taroC_9\n",
      "Position 149\n",
      "\tGGCGGAAAAGTTCGGCATCGAAATCCGCGGC\n",
      "\t\taroC_1\n",
      "\t\taroC_2\n",
      "\t\taroC_3\n",
      "\t\taroC_4\n",
      "\t\taroC_5\n",
      "\t\taroC_7\n",
      "\t\taroC_8\n",
      "\t\taroC_9\n",
      "\t\taroC_10\n",
      "\tGGCGGAAAAGTTCGGTATCGAAATCCGCGGC\n",
      "\t\taroC_6\n",
      "Position 185\n",
      "\tGACCCAGATGGGCGACATTCCGCTGGAGATT\n",
      "\t\taroC_1\n",
      "\t\taroC_2\n",
      "\t\taroC_3\n",
      "\t\taroC_6\n",
      "\t\taroC_10\n",
      "\tGACCCAGATGGGCGATATTCCGCTGGAGATT\n",
      "\t\taroC_4\n",
      "\t\taroC_5\n",
      "\t\taroC_7\n",
      "\t\taroC_8\n",
      "\t\taroC_9\n",
      "Position 239\n",
      "\tTAATCCGTTCTTTTGCCCCGATGCGGACAAA\n",
      "\t\taroC_1\n",
      "\t\taroC_2\n",
      "\tTAATCCGTTCTTTTGCCCCGATGCAGACAAA\n",
      "\t\taroC_3\n",
      "\t\taroC_6\n",
      "\t\taroC_9\n",
      "\tTAATCCGTTCTTTTGTCCCGATGCGGACAAA\n",
      "\t\taroC_4\n",
      "\t\taroC_5\n",
      "\t\taroC_7\n",
      "\t\taroC_8\n",
      "\t\taroC_10\n",
      "Position 248\n",
      "\tCTTTTGCCCCGATGCGGACAAACTTGACGCG\n",
      "\t\taroC_1\n",
      "\t\taroC_2\n",
      "\tCTTTTGCCCCGATGCAGACAAACTTGACGCG\n",
      "\t\taroC_3\n",
      "\t\taroC_6\n",
      "\tCTTTTGTCCCGATGCGGACAAACTTGACGCG\n",
      "\t\taroC_4\n",
      "\t\taroC_5\n",
      "\t\taroC_7\n",
      "\t\taroC_8\n",
      "\t\taroC_10\n",
      "\tCTTTTGCCCCGATGCAGACAAACTTAACGCG\n",
      "\t\taroC_9\n",
      "Position 258\n",
      "\tGATGCGGACAAACTTGACGCGCTGGACGAAC\n",
      "\t\taroC_1\n",
      "\t\taroC_2\n",
      "\t\taroC_4\n",
      "\t\taroC_5\n",
      "\t\taroC_7\n",
      "\t\taroC_10\n",
      "\tGATGCAGACAAACTTGACGCGCTGGACGAAC\n",
      "\t\taroC_3\n",
      "\t\taroC_6\n",
      "\tGATGCGGACAAACTTGACGCGCTGGACGAAT\n",
      "\t\taroC_8\n",
      "\tGATGCAGACAAACTTAACGCGCTGGACGAAC\n",
      "\t\taroC_9\n",
      "Position 273\n",
      "\tGACGCGCTGGACGAACTGATGCGCGCGCTGA\n",
      "\t\taroC_1\n",
      "\t\taroC_2\n",
      "\t\taroC_3\n",
      "\t\taroC_4\n",
      "\t\taroC_5\n",
      "\t\taroC_6\n",
      "\t\taroC_7\n",
      "\t\taroC_10\n",
      "\tGACGCGCTGGACGAATTGATGCGCGCGCTGA\n",
      "\t\taroC_8\n",
      "\tAACGCGCTGGACGAACTGATGCGCGCGCTGA\n",
      "\t\taroC_9\n",
      "Position 299\n",
      "\tGCTGAAAAAAGAGGGTGACTCCATCGGCGCG\n",
      "\t\taroC_1\n",
      "\t\taroC_2\n",
      "\t\taroC_3\n",
      "\t\taroC_4\n",
      "\t\taroC_6\n",
      "\t\taroC_7\n",
      "\t\taroC_8\n",
      "\t\taroC_9\n",
      "\t\taroC_10\n",
      "\tGCTGAAAAAAGAGGGCGACTCCATCGGCGCG\n",
      "\t\taroC_5\n",
      "Position 365\n",
      "\tGCTTGGCGAACCGGTATTTGACCGACTGGAT\n",
      "\t\taroC_1\n",
      "\t\taroC_2\n",
      "\t\taroC_3\n",
      "\t\taroC_4\n",
      "\t\taroC_6\n",
      "\t\taroC_7\n",
      "\t\taroC_8\n",
      "\t\taroC_9\n",
      "\t\taroC_10\n",
      "\tGCTTGGCGAACCGGTTTTTGACCGACTGGAT\n",
      "\t\taroC_5\n",
      "Position 410\n",
      "\tTGCGCTGATGAGCATCAATGCGGTGAAAGGC\n",
      "\t\taroC_1\n",
      "\t\taroC_3\n",
      "\t\taroC_5\n",
      "\t\taroC_7\n",
      "\t\taroC_8\n",
      "\tTGCGCTGATGAGCATTAATGCGGTGAAAGGC\n",
      "\t\taroC_2\n",
      "\t\taroC_4\n",
      "\t\taroC_6\n",
      "\t\taroC_9\n",
      "\t\taroC_10\n",
      "Position 452\n",
      "\tCGAAGGATTTAACGTGGTGGCGCTGCGCGGC\n",
      "\t\taroC_1\n",
      "\t\taroC_4\n",
      "\t\taroC_5\n",
      "\t\taroC_7\n",
      "\t\taroC_9\n",
      "\t\taroC_10\n",
      "\tCGAAGGATTTAACGTGGTGGCGCTGCGTGGC\n",
      "\t\taroC_2\n",
      "\t\taroC_3\n",
      "\t\taroC_6\n",
      "\tCGAAGGATTTAACGTAGTGGCGCTGCGCGGC\n",
      "\t\taroC_8\n",
      "Position 464\n",
      "\tCGTGGTGGCGCTGCGCGGCAGCCAGAATCGC\n",
      "\t\taroC_1\n",
      "\t\taroC_4\n",
      "\t\taroC_5\n",
      "\t\taroC_7\n",
      "\t\taroC_9\n",
      "\t\taroC_10\n",
      "\tCGTGGTGGCGCTGCGTGGCAGCCAGAATCGC\n",
      "\t\taroC_2\n",
      "\t\taroC_3\n",
      "\t\taroC_6\n",
      "\tCGTAGTGGCGCTGCGCGGCAGCCAGAATCGC\n",
      "\t\taroC_8\n"
     ]
    }
   ],
   "source": [
    "python -c '\n",
    "from Bio import AlignIO\n",
    "align = AlignIO.read(\"aroC-10.aligned.fasta\", \"fasta\")\n",
    "\n",
    "def check_freq(str):\n",
    "    freq = {}\n",
    "    min=1000\n",
    "    min_char = None\n",
    "    for c in set(str):\n",
    "       freq[c] = str.count(c)\n",
    "       if freq[c] < min:\n",
    "           min = freq[c]\n",
    "           min_char = c\n",
    "    return (freq, min_char)\n",
    "\n",
    "snp_col_row = {}\n",
    "for i in range(align.get_alignment_length()):\n",
    "    col = align[:, i]\n",
    "    (cf, min_char) = check_freq(col)\n",
    "    \n",
    "    if len(cf) > 1:\n",
    "        left_edge = max(0, i - 15)\n",
    "        right_edge = min(align.get_alignment_length(), left_edge + 31)\n",
    "        #left_edge = max(0, i - 10)\n",
    "        #right_edge = min(align.get_alignment_length(), left_edge + 21)\n",
    "        kmer_slice = align[:, left_edge:right_edge]\n",
    "        \n",
    "        kmer_table = {}\n",
    "        for j in kmer_slice:\n",
    "            kmer_string = str(j.seq)\n",
    "            if not kmer_string in kmer_table:\n",
    "                kmer_table[kmer_string] = [j.id]\n",
    "            else:\n",
    "                kmer_table[kmer_string].append(j.id)\n",
    "        \n",
    "        print(f\"Position {i}\")\n",
    "        for kmer in kmer_table:\n",
    "            #kmer_with_snp = kmer[:i] + \"[\" + kmer[i] + \"]\" + kmer[i+1:]\n",
    "            #print(f\"\\t{kmer_with_snp}\")\n",
    "            print(f\"\\t{kmer}\")\n",
    "            for id in kmer_table[kmer]:\n",
    "                print(f\"\\t\\t{id}\")    \n",
    "'"
   ]
  },
  {
   "cell_type": "markdown",
   "metadata": {},
   "source": [
    "Awesome. I used these to try and build a biohansel scheme. Let's look at it now."
   ]
  },
  {
   "cell_type": "code",
   "execution_count": 119,
   "metadata": {},
   "outputs": [
    {
     "name": "stdout",
     "output_type": "stream",
     "text": [
      ">8-1\n",
      "GTTTTTCGCCCGGGACACGCGGATTACACCT\n",
      ">53-1\n",
      "GAAATACGGCCTGCGCGATTACCGCGGCGGT\n",
      ">53-2.1.1.1\n",
      "CCTGCGTGATTACCGTGGCGGTGGACGTTCT\n",
      ">62-1\n",
      "CCTGCGCGATTACCGCGGCGGTGGACGTTCT\n",
      ">62-2.1.1.1\n",
      "CCTGCGTGATTACCGTGGCGGTGGACGTTCT\n"
     ]
    }
   ],
   "source": [
    "head mlst-biohansel-aroC10.fasta"
   ]
  },
  {
   "cell_type": "markdown",
   "metadata": {},
   "source": [
    "I've also created a metadata table mapping these SNP/SNV codes to MLST types (for aroC)."
   ]
  },
  {
   "cell_type": "code",
   "execution_count": 108,
   "metadata": {},
   "outputs": [
    {
     "name": "stdout",
     "output_type": "stream",
     "text": [
      "subtype    mlst_aroC\n",
      "1          1\n",
      "2.1.1.1.1  3\n",
      "2.1.1.1.2  9\n",
      "2.1.1.2    6\n",
      "2.1.2      2\n",
      "2.2.1.1.1  7\n",
      "2.2.1.1.2  8\n",
      "2.2.1.1.3  5\n",
      "2.2.1.2    4\n",
      "2.2.2      10\n"
     ]
    }
   ],
   "source": [
    "column -s$'\\t' -t mlst-biohansel-metadata.tsv"
   ]
  },
  {
   "cell_type": "markdown",
   "metadata": {},
   "source": [
    "I also have some fastq files we can use to test out."
   ]
  },
  {
   "cell_type": "code",
   "execution_count": 121,
   "metadata": {},
   "outputs": [
    {
     "name": "stdout",
     "output_type": "stream",
     "text": [
      "664M\ttest/fastq/aroC-11_GCF_000940975.1_ASM94097v1_genomic.fna.reads.fq\n",
      "680M\ttest/fastq/aroC-5_GCF_000750435.1_ASM75043v1_genomic.fna.reads.fq\n",
      "688M\ttest/fastq/aroC-8_GCF_000487135.1_ASM48713v1_genomic.fna.reads.fq\n",
      "690M\ttest/fastq/aroC-9_GCF_000430975.2_ASM43097v2_genomic.fna.reads.fq\n"
     ]
    }
   ],
   "source": [
    "du -sh test/fastq/*.fq"
   ]
  },
  {
   "cell_type": "markdown",
   "metadata": {},
   "source": [
    "Let's try running biohansel on these files with the above scheme."
   ]
  },
  {
   "cell_type": "code",
   "execution_count": 122,
   "metadata": {},
   "outputs": [
    {
     "name": "stdout",
     "output_type": "stream",
     "text": [
      "\tCommand being timed: \"hansel -s mlst-biohansel-aroC10.fasta test/fastq/aroC-11_GCF_000940975.1_ASM94097v1_genomic.fna.reads.fq test/fastq/aroC-5_GCF_000750435.1_ASM75043v1_genomic.fna.reads.fq test/fastq/aroC-8_GCF_000487135.1_ASM48713v1_genomic.fna.reads.fq test/fastq/aroC-9_GCF_000430975.2_ASM43097v2_genomic.fna.reads.fq -o biohansel-out -M mlst-biohansel-metadata.tsv --low-cov-warning 15 --force\"\n",
      "\tUser time (seconds): 47.13\n",
      "\tSystem time (seconds): 4.73\n",
      "\tPercent of CPU this job got: 114%\n",
      "\tElapsed (wall clock) time (h:mm:ss or m:ss): 0:45.27\n",
      "\tAverage shared text size (kbytes): 0\n",
      "\tAverage unshared data size (kbytes): 0\n",
      "\tAverage stack size (kbytes): 0\n",
      "\tAverage total size (kbytes): 0\n",
      "\tMaximum resident set size (kbytes): 65792\n",
      "\tAverage resident set size (kbytes): 0\n",
      "\tMajor (requiring I/O) page faults: 0\n",
      "\tMinor (reclaiming a frame) page faults: 27661\n",
      "\tVoluntary context switches: 128\n",
      "\tInvoluntary context switches: 59814\n",
      "\tSwaps: 0\n",
      "\tFile system inputs: 0\n",
      "\tFile system outputs: 8\n",
      "\tSocket messages sent: 0\n",
      "\tSocket messages received: 0\n",
      "\tSignals delivered: 0\n",
      "\tPage size (bytes): 4096\n",
      "\tExit status: 0\n"
     ]
    }
   ],
   "source": [
    "conda run --name biohansel /usr/bin/time -v hansel -s mlst-biohansel-aroC10.fasta test/fastq/*.fq -o biohansel-out \\\n",
    "    -M mlst-biohansel-metadata.tsv --low-cov-warning 15 --force"
   ]
  },
  {
   "cell_type": "markdown",
   "metadata": {},
   "source": [
    "Let's look at the results."
   ]
  },
  {
   "cell_type": "code",
   "execution_count": 133,
   "metadata": {},
   "outputs": [
    {
     "name": "stdout",
     "output_type": "stream",
     "text": [
      "sample\tscheme\tscheme_version\tsubtype\tall_subtypes\tkmers_matching_subtype\tare_subtypes_consistent\tinconsistent_subtypes\tn_kmers_matching_all\tn_kmers_matching_all_expected\tn_kmers_matching_positive\tn_kmers_matching_positive_expected\tn_kmers_matching_subtype\tn_kmers_matching_subtype_expected\tfile_path\tavg_kmer_coverage\tqc_status\tqc_message\tmlst_aroC\n",
      "aroC-11_GCF00940975.1_ASM94097v1_genomic.fna.reads\tmlst-biohansel-aroC10.fasta\t\t2.2.1.1.3\t2.2; 2.1.1.2; 2.2.1.1.3\t2.2.1.1.3\tFalse\t['2.1.1.2', '2.2', '2.2.1.1.3']\t3\t3\t3\t3\t1\t2\t['test/fastq/aroC-11_GCF_000940975.1_ASM94097v1_genomic.fna.reads.fq']\t28.750\tFAIL\t\"FAIL: 33.33% missing kmers; more than 5.00% missing kmers threshold. Okay coverage depth (38.0 >= 20.0 expected), but this may be the wrong serovar or species for scheme \"\"mlst-biohansel-aroC10.fasta\"\" | FAIL: Mixed subtypes found: \"\"2.1.1.2; 2.2; 2.2.1.1.3\"\". | FAIL: Unconfident Results Error 4: Subtype \"\"2.2.1.1.3\"\" was found, but kmers for nested hierarchical subtype(s) \"\"2.2.1.1; 2.2.1; 2\"\" were missing. Due to missing kmers, there is a lack of confidence in the final subtype call.\"\t5\n",
      "aroC-5_GCF00750435.1_ASM75043v1_genomic.fna.reads\tmlst-biohansel-aroC10.fasta\t\t2.2.1.1.3\t2.2; 2.2.1.1.3\t2.2.1.1.3\tTrue\t\t3\t3\t3\t3\t2\t2\t['test/fastq/aroC-5_GCF_000750435.1_ASM75043v1_genomic.fna.reads.fq']\t38.667\tFAIL\t\"FAIL: Unconfident Results Error 4: Subtype \"\"2.2.1.1.3\"\" was found, but kmers for nested hierarchical subtype(s) \"\"2.2.1.1; 2.2.1; 2\"\" were missing. Due to missing kmers, there is a lack of confidence in the final subtype call.\"\t5\n",
      "aroC-8_GCF00487135.1_ASM48713v1_genomic.fna.reads\tmlst-biohansel-aroC10.fasta\t\t2.2.1.1.2\t2.2; 2.2.1.1.2\t2.2.1.1.2\tTrue\t\t5\t5\t5\t5\t4\t4\t['test/fastq/aroC-8_GCF_000487135.1_ASM48713v1_genomic.fna.reads.fq']\t38.600\tFAIL\t\"FAIL: Unconfident Results Error 4: Subtype \"\"2.2.1.1.2\"\" was found, but kmers for nested hierarchical subtype(s) \"\"2.2.1.1; 2.2.1; 2\"\" were missing. Due to missing kmers, there is a lack of confidence in the final subtype call.\"\t8\n",
      "aroC-9_GCF00430975.2_ASM43097v2_genomic.fna.reads\tmlst-biohansel-aroC10.fasta\t\t2.1.1.1.2\t2.1.1.1; 2.1.1.1.2\t2.1.1.1.2\tTrue\t\t5\t6\t5\t6\t2\t2\t['test/fastq/aroC-9_GCF_000430975.2_ASM43097v2_genomic.fna.reads.fq']\t28.000\tFAIL\t\"FAIL: 16.67% missing kmers; more than 5.00% missing kmers threshold. Okay coverage depth (33.4 >= 20.0 expected), but this may be the wrong serovar or species for scheme \"\"mlst-biohansel-aroC10.fasta\"\" | FAIL: Unconfident Results Error 4: Subtype \"\"2.1.1.1.2\"\" was found, but kmers for nested hierarchical subtype(s) \"\"2.1; 2.1.1; 2\"\" were missing. Due to missing kmers, there is a lack of confidence in the final subtype call.\"\t9\n",
      "\n",
      "sample                                              subtype    are_subtypes_consistent  avg_kmer_coverage  qc_status  mlst_aroC\n",
      "aroC-11_GCF00940975.1_ASM94097v1_genomic.fna.reads  2.2.1.1.3  False                    28.750             FAIL       5\n",
      "aroC-5_GCF00750435.1_ASM75043v1_genomic.fna.reads   2.2.1.1.3  True                     38.667             FAIL       5\n",
      "aroC-8_GCF00487135.1_ASM48713v1_genomic.fna.reads   2.2.1.1.2  True                     38.600             FAIL       8\n",
      "aroC-9_GCF00430975.2_ASM43097v2_genomic.fna.reads   2.1.1.1.2  True                     28.000             FAIL       9\n"
     ]
    }
   ],
   "source": [
    "cat biohansel-out\n",
    "echo\n",
    "cut -f 1,4,7,16,17,19 biohansel-out | tee results-out.tsv | column -s$'\\t' -t"
   ]
  },
  {
   "cell_type": "markdown",
   "metadata": {},
   "source": [
    "Looks like they failed because my scheme isn't complete. But the MLST results do match (other than type 11, which wasn't in my original scheme)."
   ]
  },
  {
   "cell_type": "code",
   "execution_count": 134,
   "metadata": {},
   "outputs": [
    {
     "name": "stdout",
     "output_type": "stream",
     "text": [
      "sample\tsubtype\tare_subtypes_consistent\tavg_kmer_coverage\tqc_status\tmlst_aroC\n",
      "aroC-11_GCF00940975.1_ASM94097v1_genomic.fna.reads\t2.2.1.1.3\tFalse\t28.750\tFAIL\t5\n",
      "aroC-5_GCF00750435.1_ASM75043v1_genomic.fna.reads\t2.2.1.1.3\tTrue\t38.667\tFAIL\t5\n",
      "aroC-8_GCF00487135.1_ASM48713v1_genomic.fna.reads\t2.2.1.1.2\tTrue\t38.600\tFAIL\t8\n",
      "aroC-9_GCF00430975.2_ASM43097v2_genomic.fna.reads\t2.1.1.1.2\tTrue\t28.000\tFAIL\t9\n"
     ]
    }
   ],
   "source": [
    "cat results-out.tsv"
   ]
  },
  {
   "cell_type": "markdown",
   "metadata": {},
   "source": [
    "# Ignore biohansel and identify only lists of k-mers for each mlst allele"
   ]
  },
  {
   "cell_type": "code",
   "execution_count": 50,
   "metadata": {},
   "outputs": [
    {
     "name": "stdout",
     "output_type": "stream",
     "text": [
      "Writing file aroC_1.kmers\n",
      "Writing file aroC_2.kmers\n",
      "Writing file aroC_3.kmers\n",
      "Writing file aroC_4.kmers\n",
      "Writing file aroC_5.kmers\n",
      "Writing file aroC_6.kmers\n",
      "Writing file aroC_7.kmers\n",
      "Writing file aroC_8.kmers\n",
      "Writing file aroC_9.kmers\n",
      "Writing file aroC_10.kmers\n"
     ]
    }
   ],
   "source": [
    "python -c '\n",
    "from Bio import AlignIO\n",
    "from Bio.Seq import Seq\n",
    "align = AlignIO.read(\"aroC-10.aligned.fasta\", \"fasta\")\n",
    "\n",
    "def check_freq(str):\n",
    "    freq = {}\n",
    "    min=1000\n",
    "    min_char = None\n",
    "    for c in set(str):\n",
    "       freq[c] = str.count(c)\n",
    "       if freq[c] < min:\n",
    "           min = freq[c]\n",
    "           min_char = c\n",
    "    return (freq, min_char)\n",
    "\n",
    "table_of_kmers = {}\n",
    "for i in range(align.get_alignment_length()):\n",
    "    col = align[:, i]\n",
    "    (cf, min_char) = check_freq(col)\n",
    "    \n",
    "    if len(cf) > 1:\n",
    "        left_edge = max(0, i - 10)\n",
    "        right_edge = min(align.get_alignment_length(), left_edge + 21)\n",
    "        kmer_slice = align[:, left_edge:right_edge]\n",
    "        \n",
    "        for j in kmer_slice:\n",
    "            kmer_string = str(j.seq)\n",
    "            #kmer_seq_obj = Seq(kmer_string)\n",
    "            #kmer_rc = str(kmer_seq_obj.reverse_complement())\n",
    "            \n",
    "            if not j.id in table_of_kmers:\n",
    "                #table_of_kmers[j.id] = set([kmer_string, kmer_rc])\n",
    "                table_of_kmers[j.id] = set([kmer_string])\n",
    "            else:\n",
    "                table_of_kmers[j.id].add(kmer_string)\n",
    "                #table_of_kmers[j.id].add(kmer_rc)\n",
    "                \n",
    "for id in table_of_kmers:\n",
    "    n = f\"{id}.kmers\"\n",
    "    f = open(n, \"w\")\n",
    "    print(f\"Writing file {n}\")\n",
    "    for kmer in table_of_kmers[id]:\n",
    "        f.write(f\"{kmer}\\n\")\n",
    "    f.close()\n",
    "'"
   ]
  },
  {
   "cell_type": "markdown",
   "metadata": {},
   "source": [
    "I've written my list of candidate kmers. Let's look at one file."
   ]
  },
  {
   "cell_type": "code",
   "execution_count": 51,
   "metadata": {},
   "outputs": [
    {
     "name": "stdout",
     "output_type": "stream",
     "text": [
      "ACGGCCTGCGCGATTACCGCG\n",
      "GCGAACCGGTATTTGACCGAC\n",
      "TGATGAGCATCAATGCGGTGA\n",
      "GTTTTTCGCCCGGGACACGCG\n",
      "AGATGGGCGACATTCCGCTGG\n",
      "AAAAGTTCGGCATCGAAATCC\n",
      "GCCCCGATGCGGACAAACTTG\n",
      "GCTGGACGAACTGATGCGCGC\n",
      "GATTTAACGTGGTGGCGCTGC\n",
      "TGGCGCTGCGCGGCAGCCAGA\n",
      "GCGATTACCGCGGCGGTGGAC\n",
      "GGACAAACTTGACGCGCTGGA\n",
      "CAGGGGCGATCGCCAAGAAAT\n",
      "CGTTCTTTTGCCCCGATGCGG\n",
      "AAAAAGAGGGTGACTCCATCG\n",
      "CAAGAAATACTTGGCGGAAAA\n",
      "16 aroC_1.kmers\n"
     ]
    }
   ],
   "source": [
    "cat aroC_1.kmers\n",
    "wc -l aroC_1.kmers"
   ]
  },
  {
   "cell_type": "markdown",
   "metadata": {},
   "source": [
    "Looks good. Let's check how many k-mers in every file."
   ]
  },
  {
   "cell_type": "code",
   "execution_count": 61,
   "metadata": {},
   "outputs": [
    {
     "name": "stdout",
     "output_type": "stream",
     "text": [
      "  16 aroC_10.kmers\n",
      "  16 aroC_1.kmers\n",
      "  16 aroC_2.kmers\n",
      "  16 aroC_3.kmers\n",
      "  16 aroC_4.kmers\n",
      "  16 aroC_5.kmers\n",
      "  16 aroC_6.kmers\n",
      "  16 aroC_7.kmers\n",
      "  16 aroC_8.kmers\n",
      "  16 aroC_9.kmers\n",
      " 160 total\n"
     ]
    }
   ],
   "source": [
    "wc -l *.kmers"
   ]
  },
  {
   "cell_type": "markdown",
   "metadata": {},
   "source": [
    "Great. Let's search for files containing all these kmers to try and identify an MLST allele.\n",
    "\n",
    "We do this by using `grep` to search (and print) any kmers in the alleles kmer file. A match only occurs in allele if we find all kmers (that is, the set of kmers found by `grep` has size 16, or equal to the set of all kmers in the alleles file)."
   ]
  },
  {
   "cell_type": "code",
   "execution_count": 80,
   "metadata": {},
   "outputs": [
    {
     "name": "stdout",
     "output_type": "stream",
     "text": [
      "aroC-11\n"
     ]
    }
   ],
   "source": [
    "reads=\"test/fastq/aroC-11_GCF_000940975.1_ASM94097v1_genomic.fna.reads.fq\"\n",
    "fqname=`basename $reads | grep -o \"^[^_]*\"`\n",
    "echo ${fqname}"
   ]
  },
  {
   "cell_type": "code",
   "execution_count": 104,
   "metadata": {},
   "outputs": [
    {
     "name": "stdout",
     "output_type": "stream",
     "text": [
      "Working on test/fastq/aroC-11_GCF_000940975.1_ASM94097v1_genomic.fna.reads.fq [parallel -j 10 -a /tmp/tmp.FqXFvxDXtF]\n",
      "Working on test/fastq/aroC-5_GCF_000750435.1_ASM75043v1_genomic.fna.reads.fq [parallel -j 10 -a /tmp/tmp.EvzgG3IoR6]\n",
      "Working on test/fastq/aroC-8_GCF_000487135.1_ASM48713v1_genomic.fna.reads.fq [parallel -j 10 -a /tmp/tmp.dvqlV78uLF]\n",
      "Working on test/fastq/aroC-9_GCF_000430975.2_ASM43097v2_genomic.fna.reads.fq [parallel -j 10 -a /tmp/tmp.5VfgDwxXzw]\n",
      "file                                                                       allele\n",
      "aroC-5_GCF_000750435.1_ASM75043v1_genomic.fna.reads.fq_aroC_5.kmers.count  aroC_5.kmers\n",
      "aroC-8_GCF_000487135.1_ASM48713v1_genomic.fna.reads.fq_aroC_8.kmers.count  aroC_8.kmers\n",
      "aroC-9_GCF_000430975.2_ASM43097v2_genomic.fna.reads.fq_aroC_9.kmers.count  aroC_9.kmers\n"
     ]
    }
   ],
   "source": [
    "temp_dir=`mktemp -d`\n",
    "#temp_dir=/tmp/tmp.wG0oJG2Gxe\n",
    "for reads in test/fastq/*.fq\n",
    "#for reads in test/fastq/aroC-5_GCF_000750435.1_ASM75043v1_genomic.fna.reads.fq\n",
    "do\n",
    "    #fq_allele_name=`basename $reads | grep -o \"^[^_]*\"`\n",
    "    fq_allele_name=`basename $reads`\n",
    "    kmer_count_part=\"${temp_dir}/${fq_allele_name}\"\n",
    "    \n",
    "    # Build commands\n",
    "    commands_file=`mktemp`\n",
    "    for allele in *.kmers\n",
    "    do\n",
    "        kmer_count_out=\"${kmer_count_part}_${allele}.count\"\n",
    "        echo \"grep -F -f ${allele} ${reads} -o | sort | uniq -c | wc -l > ${kmer_count_out}\" >> ${commands_file}\n",
    "    done\n",
    "    \n",
    "    #echo \"Will execute commands from file ${commands_file} like:\"\n",
    "    #head -n 3 ${commands_file}\n",
    "    command=\"parallel -j 10 -a ${commands_file}\"\n",
    "    echo \"Working on ${reads} [${command}]\"\n",
    "    ${command}\n",
    "done\n",
    "\n",
    "(echo -e \"file\\tallele\";\n",
    "for allele in *.kmers\n",
    "do\n",
    "    count_unique_allele=`wc -l ${allele} | cut -d ' ' -f 1`\n",
    "    for fastq_name in ${temp_dir}/*${allele}.count\n",
    "    do\n",
    "        fq_allele_name=`basename $fastq_name`\n",
    "        count_unique_fastq=`cat ${fastq_name}`\n",
    "        #echo -e \"${count_unique_fastq}\\t${count_unique_alleles}\"\n",
    "        if [ \"${count_unique_fastq}\" -eq \"${count_unique_allele}\" ]\n",
    "        then\n",
    "            echo -e \"${fq_allele_name}\\t${allele}\"\n",
    "        fi\n",
    "    done\n",
    "done) | tee kmer-match-table.tsv | column -s$'\\t' -t"
   ]
  }
 ],
 "metadata": {
  "kernelspec": {
   "display_name": "Bash",
   "language": "bash",
   "name": "bash"
  },
  "language_info": {
   "codemirror_mode": "shell",
   "file_extension": ".sh",
   "mimetype": "text/x-sh",
   "name": "bash"
  }
 },
 "nbformat": 4,
 "nbformat_minor": 4
}
