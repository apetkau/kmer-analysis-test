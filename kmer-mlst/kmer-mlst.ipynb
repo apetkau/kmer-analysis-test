{
 "cells": [
  {
   "cell_type": "code",
   "execution_count": 11,
   "metadata": {},
   "outputs": [],
   "source": [
    "PROJECT_DIR=`git rev-parse --show-toplevel`\n",
    "cd $PROJECT_DIR/kmer-mlst"
   ]
  },
  {
   "cell_type": "markdown",
   "metadata": {},
   "source": [
    "# Get MLST profiles"
   ]
  },
  {
   "cell_type": "code",
   "execution_count": 2,
   "metadata": {},
   "outputs": [
    {
     "name": "stdout",
     "output_type": "stream",
     "text": [
      "--2020-01-18 15:57:29--  https://pubmlst.org/data/alleles/senterica/aroC.tfa\n",
      "Resolving pubmlst.org (pubmlst.org)... 129.67.24.31\n",
      "Connecting to pubmlst.org (pubmlst.org)|129.67.24.31|:443... connected.\n",
      "HTTP request sent, awaiting response... 200 OK\n",
      "Length: 511143 (499K)\n",
      "Saving to: ‘aroC.tfa’\n",
      "\n",
      "aroC.tfa            100%[===================>] 499.16K   856KB/s    in 0.6s    \n",
      "\n",
      "2020-01-18 15:57:30 (856 KB/s) - ‘aroC.tfa’ saved [511143/511143]\n",
      "\n"
     ]
    }
   ],
   "source": [
    "wget https://pubmlst.org/data/alleles/senterica/aroC.tfa"
   ]
  },
  {
   "cell_type": "code",
   "execution_count": 7,
   "metadata": {},
   "outputs": [
    {
     "name": "stdout",
     "output_type": "stream",
     "text": [
      "500K\taroC.tfa\n"
     ]
    }
   ],
   "source": [
    "du -sh aroC.tfa"
   ]
  },
  {
   "cell_type": "markdown",
   "metadata": {},
   "source": [
    "Pick first 10 alleles from this file."
   ]
  },
  {
   "cell_type": "code",
   "execution_count": 12,
   "metadata": {},
   "outputs": [],
   "source": [
    "head -n 100 aroC.tfa > aroC-10.fasta"
   ]
  },
  {
   "cell_type": "markdown",
   "metadata": {},
   "source": [
    "Align everything with clustalomega."
   ]
  },
  {
   "cell_type": "code",
   "execution_count": 58,
   "metadata": {},
   "outputs": [],
   "source": [
    "conda run --name clustalo clustalo -i aroC-10.fasta -o aroC-10.aligned.fasta --force\n",
    "conda run --name clustalo clustalo -i aroC-10.fasta --outfmt phylip -o aroC-10.aligned.phy --force"
   ]
  },
  {
   "cell_type": "markdown",
   "metadata": {},
   "source": [
    "Also build phylogenetic tree."
   ]
  },
  {
   "cell_type": "code",
   "execution_count": 61,
   "metadata": {},
   "outputs": [
    {
     "name": "stdout",
     "output_type": "stream",
     "text": [
      "\n",
      "\n",
      ". Command line: phyml -i aroC-10.aligned.phy \n"
     ]
    }
   ],
   "source": [
    "conda run --name phyml phyml -i aroC-10.aligned.phy | head -n 3"
   ]
  },
  {
   "cell_type": "code",
   "execution_count": 63,
   "metadata": {},
   "outputs": [
    {
     "name": "stdout",
     "output_type": "stream",
     "text": [
      "(aroC_9:0.00635288,aroC_3:0.00206180,(aroC_6:0.00208228,(aroC_2:0.00000001,(aroC_1:0.00866459,(aroC_10:0.00000001,(aroC_4:0.00000001,(aroC_5:0.00423962,(aroC_8:0.00417796,aroC_7:0.00000001)0.000000:0.00000001)0.962873:0.00207799)0.977224:0.00207798)0.791440:0.00209504)0.791428:0.00209499)0.879313:0.00209523)0.991691:0.00428820);\n"
     ]
    }
   ],
   "source": [
    "cat aroC-10.aligned.phy_phyml_tree.txt"
   ]
  },
  {
   "cell_type": "markdown",
   "metadata": {},
   "source": [
    "# Identify k-mers associated with particular SNPs"
   ]
  },
  {
   "cell_type": "markdown",
   "metadata": {},
   "source": [
    "## First, let's construct simulated reads with particular alleles inserted in them\n",
    "\n",
    "Make fasta files with a particular mlst allele inserted."
   ]
  },
  {
   "cell_type": "code",
   "execution_count": 108,
   "metadata": {},
   "outputs": [
    {
     "name": "stdout",
     "output_type": "stream",
     "text": [
      "08-5578.fasta  \u001b[0m\u001b[01;34mreal\u001b[0m\n"
     ]
    }
   ],
   "source": [
    "ls test/fastq"
   ]
  },
  {
   "cell_type": "code",
   "execution_count": 135,
   "metadata": {},
   "outputs": [],
   "source": [
    "python -c '\n",
    "from Bio import SeqIO\n",
    "from Bio.Seq import Seq\n",
    "from Bio.SeqRecord import SeqRecord\n",
    "for record in SeqIO.parse(\"aroC-10.fasta\", \"fasta\"):\n",
    "    ref_record = next(SeqIO.parse(\"test/fastq/08-5578.fasta\", \"fasta\"))\n",
    "    mod_record = SeqRecord(Seq(str(ref_record[0:10000].seq) + str(record.seq) + str(ref_record[10000:-1].seq)), \n",
    "        id=record.id + \"_\" + ref_record.id)\n",
    "\n",
    "    SeqIO.write(mod_record, f\"test/fastq/{mod_record.id}.fasta\", \"fasta\")\n",
    "'"
   ]
  },
  {
   "cell_type": "code",
   "execution_count": 138,
   "metadata": {},
   "outputs": [
    {
     "name": "stdout",
     "output_type": "stream",
     "text": [
      "3.0M\ttest/fastq/08-5578.fasta\n",
      "3.0M\ttest/fastq/aroC_10_NC_013766.fasta\n",
      "3.0M\ttest/fastq/aroC_1_NC_013766.fasta\n",
      "3.0M\ttest/fastq/aroC_2_NC_013766.fasta\n",
      "3.0M\ttest/fastq/aroC_3_NC_013766.fasta\n",
      "3.0M\ttest/fastq/aroC_4_NC_013766.fasta\n",
      "3.0M\ttest/fastq/aroC_5_NC_013766.fasta\n",
      "3.0M\ttest/fastq/aroC_6_NC_013766.fasta\n",
      "3.0M\ttest/fastq/aroC_7_NC_013766.fasta\n",
      "3.0M\ttest/fastq/aroC_8_NC_013766.fasta\n",
      "3.0M\ttest/fastq/aroC_9_NC_013766.fasta\n"
     ]
    }
   ],
   "source": [
    "du -sh test/fastq/*.fasta"
   ]
  },
  {
   "cell_type": "markdown",
   "metadata": {},
   "source": [
    "Okay, we've written fasta files with the appropriate allele substituted in. Let's simulate reads."
   ]
  },
  {
   "cell_type": "code",
   "execution_count": 50,
   "metadata": {},
   "outputs": [
    {
     "name": "stdout",
     "output_type": "stream",
     "text": [
      "Will execute commands from file /tmp/tmp.dfSx7AmuU9:\n",
      "art_illumina -ss MSv3 -na -l 250 -f 100 -i test/fastq/aroC_10_NC_013766.fasta -o test/fastq/aroC_10_NC_013766.fasta.reads --rndSeed 23857 > /dev/null\n",
      "art_illumina -ss MSv3 -na -l 250 -f 100 -i test/fastq/aroC_1_NC_013766.fasta -o test/fastq/aroC_1_NC_013766.fasta.reads --rndSeed 23147 > /dev/null\n",
      "art_illumina -ss MSv3 -na -l 250 -f 100 -i test/fastq/aroC_2_NC_013766.fasta -o test/fastq/aroC_2_NC_013766.fasta.reads --rndSeed 12388 > /dev/null\n",
      "art_illumina -ss MSv3 -na -l 250 -f 100 -i test/fastq/aroC_3_NC_013766.fasta -o test/fastq/aroC_3_NC_013766.fasta.reads --rndSeed 937 > /dev/null\n",
      "art_illumina -ss MSv3 -na -l 250 -f 100 -i test/fastq/aroC_4_NC_013766.fasta -o test/fastq/aroC_4_NC_013766.fasta.reads --rndSeed 375 > /dev/null\n",
      "art_illumina -ss MSv3 -na -l 250 -f 100 -i test/fastq/aroC_5_NC_013766.fasta -o test/fastq/aroC_5_NC_013766.fasta.reads --rndSeed 22326 > /dev/null\n",
      "art_illumina -ss MSv3 -na -l 250 -f 100 -i test/fastq/aroC_6_NC_013766.fasta -o test/fastq/aroC_6_NC_013766.fasta.reads --rndSeed 11941 > /dev/null\n",
      "art_illumina -ss MSv3 -na -l 250 -f 100 -i test/fastq/aroC_7_NC_013766.fasta -o test/fastq/aroC_7_NC_013766.fasta.reads --rndSeed 25015 > /dev/null\n",
      "art_illumina -ss MSv3 -na -l 250 -f 100 -i test/fastq/aroC_8_NC_013766.fasta -o test/fastq/aroC_8_NC_013766.fasta.reads --rndSeed 22111 > /dev/null\n",
      "art_illumina -ss MSv3 -na -l 250 -f 100 -i test/fastq/aroC_9_NC_013766.fasta -o test/fastq/aroC_9_NC_013766.fasta.reads --rndSeed 6490 > /dev/null\n",
      "Warning: your simulation will not output any ALN or SAM file with your parameter settings!\n",
      "Warning: your simulation will not output any ALN or SAM file with your parameter settings!\n",
      "Warning: your simulation will not output any ALN or SAM file with your parameter settings!\n",
      "Warning: your simulation will not output any ALN or SAM file with your parameter settings!\n",
      "Warning: your simulation will not output any ALN or SAM file with your parameter settings!\n",
      "Warning: your simulation will not output any ALN or SAM file with your parameter settings!\n",
      "Warning: your simulation will not output any ALN or SAM file with your parameter settings!\n",
      "Warning: your simulation will not output any ALN or SAM file with your parameter settings!\n",
      "Warning: your simulation will not output any ALN or SAM file with your parameter settings!\n",
      "Warning: your simulation will not output any ALN or SAM file with your parameter settings!\n"
     ]
    }
   ],
   "source": [
    "commands_file=`mktemp`\n",
    "for input in test/fastq/aroC*.fasta\n",
    "do\n",
    "    echo \"art_illumina -ss MSv3 -na -l 250 -f 100 -i ${input} -o ${input}.reads --rndSeed $RANDOM > /dev/null\" >> ${commands_file}\n",
    "done\n",
    "\n",
    "echo \"Will execute commands from file ${commands_file}:\"\n",
    "cat ${commands_file}\n",
    "conda run --name art parallel -j 10 -a ${commands_file}"
   ]
  },
  {
   "cell_type": "code",
   "execution_count": 51,
   "metadata": {},
   "outputs": [
    {
     "name": "stdout",
     "output_type": "stream",
     "text": [
      "614M\ttest/fastq/aroC_10_NC_013766.fasta.reads.fq\n",
      "613M\ttest/fastq/aroC_1_NC_013766.fasta.reads.fq\n",
      "613M\ttest/fastq/aroC_2_NC_013766.fasta.reads.fq\n",
      "613M\ttest/fastq/aroC_3_NC_013766.fasta.reads.fq\n",
      "613M\ttest/fastq/aroC_4_NC_013766.fasta.reads.fq\n",
      "613M\ttest/fastq/aroC_5_NC_013766.fasta.reads.fq\n",
      "613M\ttest/fastq/aroC_6_NC_013766.fasta.reads.fq\n",
      "613M\ttest/fastq/aroC_7_NC_013766.fasta.reads.fq\n",
      "613M\ttest/fastq/aroC_8_NC_013766.fasta.reads.fq\n",
      "613M\ttest/fastq/aroC_9_NC_013766.fasta.reads.fq\n"
     ]
    }
   ],
   "source": [
    "du -sh test/fastq/*.fq"
   ]
  },
  {
   "cell_type": "markdown",
   "metadata": {},
   "source": [
    "## Now, let's identify SNP-containing kmers\n",
    "\n",
    "Let's now identify/list SNP-containing kmers from alleles."
   ]
  },
  {
   "cell_type": "code",
   "execution_count": 31,
   "metadata": {},
   "outputs": [
    {
     "name": "stdout",
     "output_type": "stream",
     "text": [
      "Writing file aroC_1.kmers\n",
      "Writing file aroC_2.kmers\n",
      "Writing file aroC_3.kmers\n",
      "Writing file aroC_4.kmers\n",
      "Writing file aroC_5.kmers\n",
      "Writing file aroC_6.kmers\n",
      "Writing file aroC_7.kmers\n",
      "Writing file aroC_8.kmers\n",
      "Writing file aroC_9.kmers\n",
      "Writing file aroC_10.kmers\n"
     ]
    }
   ],
   "source": [
    "python -c '\n",
    "from Bio import AlignIO\n",
    "from Bio.Seq import Seq\n",
    "align = AlignIO.read(\"aroC-10.aligned.fasta\", \"fasta\")\n",
    "\n",
    "def check_freq(str):\n",
    "    freq = {}\n",
    "    min=1000\n",
    "    min_char = None\n",
    "    for c in set(str):\n",
    "       freq[c] = str.count(c)\n",
    "       if freq[c] < min:\n",
    "           min = freq[c]\n",
    "           min_char = c\n",
    "    return (freq, min_char)\n",
    "\n",
    "table_of_kmers = {}\n",
    "for i in range(align.get_alignment_length()):\n",
    "    col = align[:, i]\n",
    "    (cf, min_char) = check_freq(col)\n",
    "    \n",
    "    if len(cf) > 1:\n",
    "        left_edge = max(0, i - 10)\n",
    "        right_edge = min(align.get_alignment_length(), left_edge + 21)\n",
    "        kmer_slice = align[:, left_edge:right_edge]\n",
    "        \n",
    "        for j in kmer_slice:\n",
    "            kmer_string = str(j.seq)\n",
    "            #kmer_seq_obj = Seq(kmer_string)\n",
    "            #kmer_rc = str(kmer_seq_obj.reverse_complement())\n",
    "            #kmer_kmer_rc = kmer_string + \"|\" + kmer_rc\n",
    "            \n",
    "            if not j.id in table_of_kmers:\n",
    "                #table_of_kmers[j.id] = set([kmer_kmer_rc])\n",
    "                table_of_kmers[j.id] = set([kmer_string])\n",
    "            else:\n",
    "                table_of_kmers[j.id].add(kmer_string)\n",
    "                #table_of_kmers[j.id].add(kmer_kmer_rc)\n",
    "                \n",
    "for id in table_of_kmers:\n",
    "    n = f\"{id}.kmers\"\n",
    "    f = open(n, \"w\")\n",
    "    print(f\"Writing file {n}\")\n",
    "    for kmer in sorted(table_of_kmers[id]):\n",
    "        f.write(f\"{kmer}\\n\")\n",
    "    f.close()\n",
    "'"
   ]
  },
  {
   "cell_type": "markdown",
   "metadata": {},
   "source": [
    "I've written my list of candidate kmers. Let's look at one file."
   ]
  },
  {
   "cell_type": "code",
   "execution_count": 32,
   "metadata": {},
   "outputs": [
    {
     "name": "stdout",
     "output_type": "stream",
     "text": [
      "AAAAAGAGGGTGACTCCATCG\n",
      "AAAAGTTCGGCATCGAAATCC\n",
      "ACGGCCTGCGCGATTACCGCG\n",
      "AGATGGGCGACATTCCGCTGG\n",
      "CAAGAAATACTTGGCGGAAAA\n",
      "CAGGGGCGATCGCCAAGAAAT\n",
      "CGTTCTTTTGCCCCGATGCGG\n",
      "GATTTAACGTGGTGGCGCTGC\n",
      "GCCCCGATGCGGACAAACTTG\n",
      "GCGAACCGGTATTTGACCGAC\n",
      "GCGATTACCGCGGCGGTGGAC\n",
      "GCTGGACGAACTGATGCGCGC\n",
      "GGACAAACTTGACGCGCTGGA\n",
      "GTTTTTCGCCCGGGACACGCG\n",
      "TGATGAGCATCAATGCGGTGA\n",
      "TGGCGCTGCGCGGCAGCCAGA\n",
      "16 aroC_1.kmers\n"
     ]
    }
   ],
   "source": [
    "cat aroC_1.kmers\n",
    "wc -l aroC_1.kmers"
   ]
  },
  {
   "cell_type": "markdown",
   "metadata": {},
   "source": [
    "Looks good. Let's check how many k-mers in every file."
   ]
  },
  {
   "cell_type": "code",
   "execution_count": 33,
   "metadata": {},
   "outputs": [
    {
     "name": "stdout",
     "output_type": "stream",
     "text": [
      "  16 aroC_10.kmers\n",
      "  16 aroC_1.kmers\n",
      "  16 aroC_2.kmers\n",
      "  16 aroC_3.kmers\n",
      "  16 aroC_4.kmers\n",
      "  16 aroC_5.kmers\n",
      "  16 aroC_6.kmers\n",
      "  16 aroC_7.kmers\n",
      "  16 aroC_8.kmers\n",
      "  16 aroC_9.kmers\n",
      " 160 total\n"
     ]
    }
   ],
   "source": [
    "wc -l *.kmers"
   ]
  },
  {
   "cell_type": "markdown",
   "metadata": {},
   "source": [
    "Great. Let's search for files containing all these kmers to try and identify an MLST allele.\n",
    "\n",
    "## Search for kmers in simulated reads\n",
    "\n",
    "We do this by using `grep` to search (and print) any kmers in the alleles kmer file. A match only occurs in allele if we find all kmers (that is, the set of kmers found by `grep` has size 16, or equal to the set of all kmers in the alleles file)."
   ]
  },
  {
   "cell_type": "code",
   "execution_count": 53,
   "metadata": {},
   "outputs": [
    {
     "name": "stdout",
     "output_type": "stream",
     "text": [
      "Temp dir is /tmp/tmp.8oAr9D3nAC\n",
      "Working on test/fastq/aroC_10_NC_013766.fasta.reads.fq [parallel -j 10 -a /tmp/tmp.26s1CkZqs6]\n",
      "Working on test/fastq/aroC_1_NC_013766.fasta.reads.fq [parallel -j 10 -a /tmp/tmp.HE0z9IG1Zs]\n",
      "Working on test/fastq/aroC_2_NC_013766.fasta.reads.fq [parallel -j 10 -a /tmp/tmp.E5YGAt9kzK]\n",
      "Working on test/fastq/aroC_3_NC_013766.fasta.reads.fq [parallel -j 10 -a /tmp/tmp.fP6JBpEXHC]\n",
      "Working on test/fastq/aroC_4_NC_013766.fasta.reads.fq [parallel -j 10 -a /tmp/tmp.f3ZunWd6Jt]\n",
      "Working on test/fastq/aroC_5_NC_013766.fasta.reads.fq [parallel -j 10 -a /tmp/tmp.Qj8TqRNzbz]\n",
      "Working on test/fastq/aroC_6_NC_013766.fasta.reads.fq [parallel -j 10 -a /tmp/tmp.7AiQzpD27Y]\n",
      "Working on test/fastq/aroC_7_NC_013766.fasta.reads.fq [parallel -j 10 -a /tmp/tmp.9e6UcUi6vn]\n",
      "Working on test/fastq/aroC_8_NC_013766.fasta.reads.fq [parallel -j 10 -a /tmp/tmp.gbnFlFygzg]\n",
      "Working on test/fastq/aroC_9_NC_013766.fasta.reads.fq [parallel -j 10 -a /tmp/tmp.pKtDQ5xK1L]\n",
      "file                                                  allele\n",
      "aroC_10_NC_013766.fasta.reads.fq_aroC_10.kmers.count  aroC_10.kmers\n",
      "aroC_3_NC_013766.fasta.reads.fq_aroC_3.kmers.count    aroC_3.kmers\n",
      "aroC_4_NC_013766.fasta.reads.fq_aroC_4.kmers.count    aroC_4.kmers\n",
      "aroC_5_NC_013766.fasta.reads.fq_aroC_5.kmers.count    aroC_5.kmers\n",
      "aroC_6_NC_013766.fasta.reads.fq_aroC_6.kmers.count    aroC_6.kmers\n",
      "aroC_7_NC_013766.fasta.reads.fq_aroC_7.kmers.count    aroC_7.kmers\n",
      "aroC_8_NC_013766.fasta.reads.fq_aroC_8.kmers.count    aroC_8.kmers\n"
     ]
    }
   ],
   "source": [
    "temp_dir=`mktemp -d`\n",
    "echo \"Temp dir is ${temp_dir}\"\n",
    "for reads in test/fastq/*.fq\n",
    "do\n",
    "    fq_allele_name=`basename $reads`\n",
    "    kmer_count_part=\"${temp_dir}/${fq_allele_name}\"\n",
    "    \n",
    "    # Build commands\n",
    "    commands_file=`mktemp`\n",
    "    for allele in *.kmers\n",
    "    do\n",
    "        kmer_count_out=\"${kmer_count_part}_${allele}.count\"\n",
    "        echo \"grep -F -f ${allele} ${reads} -o | sort | uniq -c | wc -l > ${kmer_count_out}\" >> ${commands_file}\n",
    "    done\n",
    "    \n",
    "    command=\"parallel -j 10 -a ${commands_file}\"\n",
    "    echo \"Working on ${reads} [${command}]\"\n",
    "    ${command}\n",
    "done\n",
    "\n",
    "(echo -e \"file\\tallele\";\n",
    "for allele in *.kmers\n",
    "do\n",
    "    count_unique_allele=`wc -l ${allele} | cut -d ' ' -f 1`\n",
    "    for fastq_name in ${temp_dir}/*${allele}.count\n",
    "    do\n",
    "        fq_allele_name=`basename $fastq_name`\n",
    "        count_unique_fastq=`cat ${fastq_name}`\n",
    "        if [ \"${count_unique_fastq}\" -eq \"${count_unique_allele}\" ]\n",
    "        then\n",
    "            echo -e \"${fq_allele_name}\\t${allele}\"\n",
    "        fi\n",
    "    done\n",
    "done) | tee kmer-match-table.tsv | column -s$'\\t' -t"
   ]
  }
 ],
 "metadata": {
  "kernelspec": {
   "display_name": "Bash",
   "language": "bash",
   "name": "bash"
  },
  "language_info": {
   "codemirror_mode": "shell",
   "file_extension": ".sh",
   "mimetype": "text/x-sh",
   "name": "bash"
  }
 },
 "nbformat": 4,
 "nbformat_minor": 4
}
