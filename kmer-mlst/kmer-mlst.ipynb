{
 "cells": [
  {
   "cell_type": "code",
   "execution_count": 1,
   "metadata": {},
   "outputs": [],
   "source": [
    "PROJECT_DIR=`git rev-parse --show-toplevel`\n",
    "cd $PROJECT_DIR/kmer-mlst"
   ]
  },
  {
   "cell_type": "markdown",
   "metadata": {},
   "source": [
    "# Get MLST profiles"
   ]
  },
  {
   "cell_type": "code",
   "execution_count": 2,
   "metadata": {},
   "outputs": [
    {
     "name": "stdout",
     "output_type": "stream",
     "text": [
      "--2020-01-18 15:57:29--  https://pubmlst.org/data/alleles/senterica/aroC.tfa\n",
      "Resolving pubmlst.org (pubmlst.org)... 129.67.24.31\n",
      "Connecting to pubmlst.org (pubmlst.org)|129.67.24.31|:443... connected.\n",
      "HTTP request sent, awaiting response... 200 OK\n",
      "Length: 511143 (499K)\n",
      "Saving to: ‘aroC.tfa’\n",
      "\n",
      "aroC.tfa            100%[===================>] 499.16K   856KB/s    in 0.6s    \n",
      "\n",
      "2020-01-18 15:57:30 (856 KB/s) - ‘aroC.tfa’ saved [511143/511143]\n",
      "\n"
     ]
    }
   ],
   "source": [
    "wget https://pubmlst.org/data/alleles/senterica/aroC.tfa"
   ]
  },
  {
   "cell_type": "code",
   "execution_count": 7,
   "metadata": {},
   "outputs": [
    {
     "name": "stdout",
     "output_type": "stream",
     "text": [
      "500K\taroC.tfa\n"
     ]
    }
   ],
   "source": [
    "du -sh aroC.tfa"
   ]
  },
  {
   "cell_type": "markdown",
   "metadata": {},
   "source": [
    "Pick first 10 alleles from this file."
   ]
  },
  {
   "cell_type": "code",
   "execution_count": 12,
   "metadata": {},
   "outputs": [],
   "source": [
    "head -n 100 aroC.tfa > aroC-10.fasta"
   ]
  },
  {
   "cell_type": "markdown",
   "metadata": {},
   "source": [
    "Align everything with clustalomega."
   ]
  },
  {
   "cell_type": "code",
   "execution_count": 58,
   "metadata": {},
   "outputs": [],
   "source": [
    "conda run --name clustalo clustalo -i aroC-10.fasta -o aroC-10.aligned.fasta --force\n",
    "conda run --name clustalo clustalo -i aroC-10.fasta --outfmt phylip -o aroC-10.aligned.phy --force"
   ]
  },
  {
   "cell_type": "markdown",
   "metadata": {},
   "source": [
    "Also build phylogenetic tree."
   ]
  },
  {
   "cell_type": "code",
   "execution_count": 61,
   "metadata": {},
   "outputs": [
    {
     "name": "stdout",
     "output_type": "stream",
     "text": [
      "\n",
      "\n",
      ". Command line: phyml -i aroC-10.aligned.phy \n"
     ]
    }
   ],
   "source": [
    "conda run --name phyml phyml -i aroC-10.aligned.phy | head -n 3"
   ]
  },
  {
   "cell_type": "code",
   "execution_count": 63,
   "metadata": {},
   "outputs": [
    {
     "name": "stdout",
     "output_type": "stream",
     "text": [
      "(aroC_9:0.00635288,aroC_3:0.00206180,(aroC_6:0.00208228,(aroC_2:0.00000001,(aroC_1:0.00866459,(aroC_10:0.00000001,(aroC_4:0.00000001,(aroC_5:0.00423962,(aroC_8:0.00417796,aroC_7:0.00000001)0.000000:0.00000001)0.962873:0.00207799)0.977224:0.00207798)0.791440:0.00209504)0.791428:0.00209499)0.879313:0.00209523)0.991691:0.00428820);\n"
     ]
    }
   ],
   "source": [
    "cat aroC-10.aligned.phy_phyml_tree.txt"
   ]
  },
  {
   "cell_type": "code",
   "execution_count": 85,
   "metadata": {},
   "outputs": [
    {
     "name": "stdout",
     "output_type": "stream",
     "text": [
      "aroC_1\n"
     ]
    }
   ],
   "source": [
    "python -c '\n",
    "from Bio import AlignIO\n",
    "align = AlignIO.read(\"aroC-10.aligned.fasta\", \"fasta\")\n",
    "#print(align)\n",
    "print(align[0].id)\n",
    "'"
   ]
  },
  {
   "cell_type": "code",
   "execution_count": 67,
   "metadata": {},
   "outputs": [
    {
     "name": "stdout",
     "output_type": "stream",
     "text": [
      "index: 8, align: CTTTTTTTTT\n",
      "index: 53, align: CCTCCCCCTC\n",
      "index: 62, align: CTTTTTTTTT\n",
      "index: 119, align: CCTCCCCCTC\n",
      "index: 132, align: TCCCCCCCCC\n",
      "index: 149, align: CCCCCTCCCC\n",
      "index: 185, align: CCCTTCTTTC\n",
      "index: 239, align: CCCTTCTTCT\n",
      "index: 248, align: GGAGGAGGAG\n",
      "index: 258, align: GGGGGGGGAG\n",
      "index: 273, align: CCCCCCCTCC\n",
      "index: 299, align: TTTTCTTTTT\n",
      "index: 365, align: AAAATAAAAA\n",
      "index: 410, align: CTCTCTCCTT\n",
      "index: 452, align: GGGGGGGAGG\n",
      "index: 464, align: CTTCCTCCCC\n"
     ]
    }
   ],
   "source": [
    "python -c '\n",
    "from Bio import AlignIO\n",
    "align = AlignIO.read(\"aroC-10.aligned.fasta\", \"fasta\")\n",
    "\n",
    "def check_freq(str):\n",
    "    freq = {}\n",
    "    min=1000\n",
    "    min_char = None\n",
    "    for c in set(str):\n",
    "       freq[c] = str.count(c)\n",
    "       if freq[c] < min:\n",
    "           min = freq[c]\n",
    "           min_char = c\n",
    "    return (freq, min_char)\n",
    "\n",
    "snp_col_row = {}\n",
    "for i in range(align.get_alignment_length()):\n",
    "    col = align[:, i]\n",
    "    (cf, min_char) = check_freq(col)\n",
    "    \n",
    "    if len(cf) > 1:\n",
    "        positions = [pos for pos, char in enumerate(col) if char == min_char]\n",
    "        print(f\"index: {i}, align: {col}\")\n",
    "        #print(cf)\n",
    "        #print(min_char)\n",
    "        #print(positions)\n",
    "        \n",
    "        snp_col_row[i] = positions\n",
    "'"
   ]
  },
  {
   "cell_type": "code",
   "execution_count": 91,
   "metadata": {},
   "outputs": [
    {
     "name": "stdout",
     "output_type": "stream",
     "text": [
      "Position 8\n",
      "\tGTTTTTCGCCCGGGACACGCGGATTACACCT\n",
      "\t\taroC_1\n",
      "\tGTTTTTCGTCCGGGACACGCGGATTACACCT\n",
      "\t\taroC_2\n",
      "\t\taroC_3\n",
      "\t\taroC_4\n",
      "\t\taroC_5\n",
      "\t\taroC_6\n",
      "\t\taroC_7\n",
      "\t\taroC_8\n",
      "\t\taroC_9\n",
      "\t\taroC_10\n",
      "Position 53\n",
      "\tGAAATACGGCCTGCGCGATTACCGCGGCGGT\n",
      "\t\taroC_1\n",
      "\tGAAATACGGCCTGCGCGATTACCGTGGCGGT\n",
      "\t\taroC_2\n",
      "\t\taroC_4\n",
      "\t\taroC_5\n",
      "\t\taroC_6\n",
      "\t\taroC_7\n",
      "\t\taroC_8\n",
      "\t\taroC_10\n",
      "\tGAAATACGGCCTGCGTGATTACCGTGGCGGT\n",
      "\t\taroC_3\n",
      "\t\taroC_9\n",
      "Position 62\n",
      "\tCCTGCGCGATTACCGCGGCGGTGGACGTTCT\n",
      "\t\taroC_1\n",
      "\tCCTGCGCGATTACCGTGGCGGTGGACGTTCT\n",
      "\t\taroC_2\n",
      "\t\taroC_4\n",
      "\t\taroC_5\n",
      "\t\taroC_6\n",
      "\t\taroC_7\n",
      "\t\taroC_8\n",
      "\t\taroC_10\n",
      "\tCCTGCGTGATTACCGTGGCGGTGGACGTTCT\n",
      "\t\taroC_3\n",
      "\t\taroC_9\n",
      "Position 119\n",
      "\tAGCGGCAGGGGCGATCGCCAAGAAATACTTG\n",
      "\t\taroC_1\n",
      "\tAGCGGCAGGGGCGATCGCCAAGAAATACCTG\n",
      "\t\taroC_2\n",
      "\t\taroC_4\n",
      "\t\taroC_5\n",
      "\t\taroC_6\n",
      "\t\taroC_7\n",
      "\t\taroC_8\n",
      "\t\taroC_10\n",
      "\tAGCGGCAGGGGCGATTGCCAAGAAATACCTG\n",
      "\t\taroC_3\n",
      "\t\taroC_9\n",
      "Position 132\n",
      "\tATCGCCAAGAAATACTTGGCGGAAAAGTTCG\n",
      "\t\taroC_1\n",
      "\tATCGCCAAGAAATACCTGGCGGAAAAGTTCG\n",
      "\t\taroC_2\n",
      "\t\taroC_4\n",
      "\t\taroC_5\n",
      "\t\taroC_6\n",
      "\t\taroC_7\n",
      "\t\taroC_8\n",
      "\t\taroC_10\n",
      "\tATTGCCAAGAAATACCTGGCGGAAAAGTTCG\n",
      "\t\taroC_3\n",
      "\t\taroC_9\n",
      "Position 149\n",
      "\tGGCGGAAAAGTTCGGCATCGAAATCCGCGGC\n",
      "\t\taroC_1\n",
      "\t\taroC_2\n",
      "\t\taroC_3\n",
      "\t\taroC_4\n",
      "\t\taroC_5\n",
      "\t\taroC_7\n",
      "\t\taroC_8\n",
      "\t\taroC_9\n",
      "\t\taroC_10\n",
      "\tGGCGGAAAAGTTCGGTATCGAAATCCGCGGC\n",
      "\t\taroC_6\n",
      "Position 185\n",
      "\tGACCCAGATGGGCGACATTCCGCTGGAGATT\n",
      "\t\taroC_1\n",
      "\t\taroC_2\n",
      "\t\taroC_3\n",
      "\t\taroC_6\n",
      "\t\taroC_10\n",
      "\tGACCCAGATGGGCGATATTCCGCTGGAGATT\n",
      "\t\taroC_4\n",
      "\t\taroC_5\n",
      "\t\taroC_7\n",
      "\t\taroC_8\n",
      "\t\taroC_9\n",
      "Position 239\n",
      "\tTAATCCGTTCTTTTGCCCCGATGCGGACAAA\n",
      "\t\taroC_1\n",
      "\t\taroC_2\n",
      "\tTAATCCGTTCTTTTGCCCCGATGCAGACAAA\n",
      "\t\taroC_3\n",
      "\t\taroC_6\n",
      "\t\taroC_9\n",
      "\tTAATCCGTTCTTTTGTCCCGATGCGGACAAA\n",
      "\t\taroC_4\n",
      "\t\taroC_5\n",
      "\t\taroC_7\n",
      "\t\taroC_8\n",
      "\t\taroC_10\n",
      "Position 248\n",
      "\tCTTTTGCCCCGATGCGGACAAACTTGACGCG\n",
      "\t\taroC_1\n",
      "\t\taroC_2\n",
      "\tCTTTTGCCCCGATGCAGACAAACTTGACGCG\n",
      "\t\taroC_3\n",
      "\t\taroC_6\n",
      "\tCTTTTGTCCCGATGCGGACAAACTTGACGCG\n",
      "\t\taroC_4\n",
      "\t\taroC_5\n",
      "\t\taroC_7\n",
      "\t\taroC_8\n",
      "\t\taroC_10\n",
      "\tCTTTTGCCCCGATGCAGACAAACTTAACGCG\n",
      "\t\taroC_9\n",
      "Position 258\n",
      "\tGATGCGGACAAACTTGACGCGCTGGACGAAC\n",
      "\t\taroC_1\n",
      "\t\taroC_2\n",
      "\t\taroC_4\n",
      "\t\taroC_5\n",
      "\t\taroC_7\n",
      "\t\taroC_10\n",
      "\tGATGCAGACAAACTTGACGCGCTGGACGAAC\n",
      "\t\taroC_3\n",
      "\t\taroC_6\n",
      "\tGATGCGGACAAACTTGACGCGCTGGACGAAT\n",
      "\t\taroC_8\n",
      "\tGATGCAGACAAACTTAACGCGCTGGACGAAC\n",
      "\t\taroC_9\n",
      "Position 273\n",
      "\tGACGCGCTGGACGAACTGATGCGCGCGCTGA\n",
      "\t\taroC_1\n",
      "\t\taroC_2\n",
      "\t\taroC_3\n",
      "\t\taroC_4\n",
      "\t\taroC_5\n",
      "\t\taroC_6\n",
      "\t\taroC_7\n",
      "\t\taroC_10\n",
      "\tGACGCGCTGGACGAATTGATGCGCGCGCTGA\n",
      "\t\taroC_8\n",
      "\tAACGCGCTGGACGAACTGATGCGCGCGCTGA\n",
      "\t\taroC_9\n",
      "Position 299\n",
      "\tGCTGAAAAAAGAGGGTGACTCCATCGGCGCG\n",
      "\t\taroC_1\n",
      "\t\taroC_2\n",
      "\t\taroC_3\n",
      "\t\taroC_4\n",
      "\t\taroC_6\n",
      "\t\taroC_7\n",
      "\t\taroC_8\n",
      "\t\taroC_9\n",
      "\t\taroC_10\n",
      "\tGCTGAAAAAAGAGGGCGACTCCATCGGCGCG\n",
      "\t\taroC_5\n",
      "Position 365\n",
      "\tGCTTGGCGAACCGGTATTTGACCGACTGGAT\n",
      "\t\taroC_1\n",
      "\t\taroC_2\n",
      "\t\taroC_3\n",
      "\t\taroC_4\n",
      "\t\taroC_6\n",
      "\t\taroC_7\n",
      "\t\taroC_8\n",
      "\t\taroC_9\n",
      "\t\taroC_10\n",
      "\tGCTTGGCGAACCGGTTTTTGACCGACTGGAT\n",
      "\t\taroC_5\n",
      "Position 410\n",
      "\tTGCGCTGATGAGCATCAATGCGGTGAAAGGC\n",
      "\t\taroC_1\n",
      "\t\taroC_3\n",
      "\t\taroC_5\n",
      "\t\taroC_7\n",
      "\t\taroC_8\n",
      "\tTGCGCTGATGAGCATTAATGCGGTGAAAGGC\n",
      "\t\taroC_2\n",
      "\t\taroC_4\n",
      "\t\taroC_6\n",
      "\t\taroC_9\n",
      "\t\taroC_10\n",
      "Position 452\n",
      "\tCGAAGGATTTAACGTGGTGGCGCTGCGCGGC\n",
      "\t\taroC_1\n",
      "\t\taroC_4\n",
      "\t\taroC_5\n",
      "\t\taroC_7\n",
      "\t\taroC_9\n",
      "\t\taroC_10\n",
      "\tCGAAGGATTTAACGTGGTGGCGCTGCGTGGC\n",
      "\t\taroC_2\n",
      "\t\taroC_3\n",
      "\t\taroC_6\n",
      "\tCGAAGGATTTAACGTAGTGGCGCTGCGCGGC\n",
      "\t\taroC_8\n",
      "Position 464\n",
      "\tCGTGGTGGCGCTGCGCGGCAGCCAGAATCGC\n",
      "\t\taroC_1\n",
      "\t\taroC_4\n",
      "\t\taroC_5\n",
      "\t\taroC_7\n",
      "\t\taroC_9\n",
      "\t\taroC_10\n",
      "\tCGTGGTGGCGCTGCGTGGCAGCCAGAATCGC\n",
      "\t\taroC_2\n",
      "\t\taroC_3\n",
      "\t\taroC_6\n",
      "\tCGTAGTGGCGCTGCGCGGCAGCCAGAATCGC\n",
      "\t\taroC_8\n"
     ]
    }
   ],
   "source": [
    "python -c '\n",
    "from Bio import AlignIO\n",
    "align = AlignIO.read(\"aroC-10.aligned.fasta\", \"fasta\")\n",
    "\n",
    "def check_freq(str):\n",
    "    freq = {}\n",
    "    min=1000\n",
    "    min_char = None\n",
    "    for c in set(str):\n",
    "       freq[c] = str.count(c)\n",
    "       if freq[c] < min:\n",
    "           min = freq[c]\n",
    "           min_char = c\n",
    "    return (freq, min_char)\n",
    "\n",
    "snp_col_row = {}\n",
    "for i in range(align.get_alignment_length()):\n",
    "    col = align[:, i]\n",
    "    (cf, min_char) = check_freq(col)\n",
    "    \n",
    "    if len(cf) > 1:\n",
    "        left_edge = max(0, i - 15)\n",
    "        right_edge = min(align.get_alignment_length(), left_edge + 31)\n",
    "        kmer_slice = align[:, left_edge:right_edge]\n",
    "        #print(kmer_slice)\n",
    "        \n",
    "        kmer_table = {}\n",
    "        for j in kmer_slice:\n",
    "            kmer_string = str(j.seq)\n",
    "            if not kmer_string in kmer_table:\n",
    "                kmer_table[kmer_string] = [j.id]\n",
    "            else:\n",
    "                kmer_table[kmer_string].append(j.id)\n",
    "        \n",
    "        #print(kmer_table)\n",
    "        print(f\"Position {i}\")\n",
    "        for kmer in kmer_table:\n",
    "            print(f\"\\t{kmer}\")\n",
    "            for id in kmer_table[kmer]:\n",
    "                print(f\"\\t\\t{id}\")    \n",
    "'"
   ]
  },
  {
   "cell_type": "code",
   "execution_count": null,
   "metadata": {},
   "outputs": [],
   "source": []
  }
 ],
 "metadata": {
  "kernelspec": {
   "display_name": "Bash",
   "language": "bash",
   "name": "bash"
  },
  "language_info": {
   "codemirror_mode": "shell",
   "file_extension": ".sh",
   "mimetype": "text/x-sh",
   "name": "bash"
  }
 },
 "nbformat": 4,
 "nbformat_minor": 4
}
