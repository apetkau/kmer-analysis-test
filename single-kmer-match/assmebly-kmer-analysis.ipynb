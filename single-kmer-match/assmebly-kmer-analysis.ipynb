{
 "cells": [
  {
   "cell_type": "code",
   "execution_count": 3,
   "metadata": {},
   "outputs": [],
   "source": [
    "PROJECT_DIR=`git rev-parse --show-toplevel`\n",
    "cd $PROJECT_DIR/single-kmer-match\n",
    "\n",
    "kmer_length=31"
   ]
  },
  {
   "cell_type": "markdown",
   "metadata": {},
   "source": [
    "# Construct k-mer probe"
   ]
  },
  {
   "cell_type": "code",
   "execution_count": 5,
   "metadata": {},
   "outputs": [
    {
     "name": "stdout",
     "output_type": "stream",
     "text": [
      ">gb|U00096|-|2098446-2099613|ARO:3003577|ugd [Escherichia coli str. K-12 substr. MG1655] \n",
      "ATGAAAATCACCATTTCCGGTACTGGCTATGTAGGCTTGTCAAACGGGCTTCTAATCGCACAAAATCATGAGGTTGTGGCATTAGATATTTTACCGTCACGCGTTGCTATGCTGAATGATCGGATATCTCCTATTGTTGATAAGGAAATTCAGCAGTTTTTGCAATCAGATAAAATACACTTTAATGCCACATTAGATAAAAATGAAGCCTACCGGGATGCTGATTATGTCATCATCGCCACTCCAACCGACTATGATCCTAAAACTAATTATTTCAATACATCCAGTGTAGAATCAGTAATTAAAGACGTAGTTGAGATAAATCCTTATGCGGTTATGGTCATCAAATCAACGGTTCCCGTTGGTTTTACCGCAGCGATGCATAAGAAATATCGCACTGAAAATATTATATTCTCCCCGGAATTTCTCCGTGAGGGTAAAGCCCTTTACGATAATCTCCATCCTTCACGTATTGTCATCGGTGAGCGTTCAGAACGCGCAGAACGTTTCGCTGCTCTGTTACAGGAAGGCGCGATTAAGCAAAATATCCCGATGCTGTTTACCGACTCCACTGAAGCAGAAGCGATTAAACTTTTTGCAAACACCTACCTGGCGATGCGCGTGGCGTACTTTAACGAACTGGATAGCTATGCAGAAAGTTTAGGTCTGAATTCCCGTCAAATAATCGAAGGCGTTTGTCTCGACCCACGTATTGGCAACCATTACAACAATCCGTCGTTTGGTTATGGTGGTTATTGTCTGCCGAAAGATACCAAGCAGTTACTGGCGAACTACCAGTCTGTGCCGAATAACCTGATCTCGGCAATTGTCGATGCTAACCGCACGCGTAAAGATTTTATTGCCGATGCCATTTTGTCACGCAAGCCGCAAGTGGTGGGTATTTATCGTCTGATTATGAAGAGCGGTTCAGATAACTTCCGTGCGTCTTCTATTCAGGGGATTATGAAACGTATCAAGGCGAAAGGTGTTGAAGTGATCATCTACGAGCCAGTGATGAAAGAAGACTCATTCTTCAACTCTCGCCTGGAACGTGATCTCGCCACCTTCAAACAACAAGCCGACGTCATTATCTCTAACCGAATGGCAGAAGAGCTTAAGGATGTGGCAGATAAGGTATACACCCGCGATCTCTTTGGCAGCGACTAA\n"
     ]
    }
   ],
   "source": [
    "grep 'ugd' kmer-probe/nucleotide_fasta_protein_homolog_model.fasta -A 1 | tee kmer-probe/ugd.fasta"
   ]
  },
  {
   "cell_type": "code",
   "execution_count": 6,
   "metadata": {},
   "outputs": [],
   "source": [
    "conda run --name jellyfish jellyfish count --size 10000000 --threads 8 --mer-len ${kmer_length} --output \\\n",
    "        kmer-probe/ugd.kmer.jf --canonical kmer-probe/ugd.fasta && \\\n",
    "    jellyfish dump --column kmer-probe/ugd.kmer.jf | cut -d ' ' -f 1 > kmer-probe/ugd.kmer"
   ]
  },
  {
   "cell_type": "code",
   "execution_count": 7,
   "metadata": {},
   "outputs": [
    {
     "name": "stdout",
     "output_type": "stream",
     "text": [
      "AATGACGTCGGCTTGTTGTTTGAAGGTGGCG\n",
      "AAAAATGAAGCCTACCGGGATGCTGATTATG\n",
      "ACCAGTCTGTGCCGAATAACCTGATCTCGGC\n",
      "CACTTCAACACCTTTCGCCTTGATACGTTTC\n",
      "AGGTGTTTGCAAAAAGTTTAATCGCTTCTGC\n",
      "AGCCCGTTTGACAAGCCTACATAGCCAGTAC\n",
      "AATACGTGGGTCGAGACAAACGCCTTCGATT\n",
      "GTGCGGTTAGCATCGACAATTGCCGAGATCA\n",
      "GCCCTTTACGATAATCTCCATCCTTCACGTA\n",
      "CCTACCGGGATGCTGATTATGTCATCATCGC\n",
      "1137 kmer-probe/ugd.kmer\n"
     ]
    }
   ],
   "source": [
    "head kmer-probe/ugd.kmer\n",
    "wc -l kmer-probe/ugd.kmer"
   ]
  },
  {
   "cell_type": "markdown",
   "metadata": {},
   "source": [
    "Pick a single kmer from this list."
   ]
  },
  {
   "cell_type": "code",
   "execution_count": 12,
   "metadata": {},
   "outputs": [
    {
     "name": "stdout",
     "output_type": "stream",
     "text": [
      ">ugd-single-kmer\n",
      "AATGACGTCGGCTTGTTGTTTGAAGGTGGCG\n"
     ]
    }
   ],
   "source": [
    "(echo \">ugd-single-kmer\"; head -n 1 kmer-probe/ugd.kmer) | tee kmer-probe/ugd.single.fasta"
   ]
  },
  {
   "cell_type": "markdown",
   "metadata": {},
   "source": [
    "# Pull out reads matching kmer"
   ]
  },
  {
   "cell_type": "code",
   "execution_count": 13,
   "metadata": {},
   "outputs": [
    {
     "name": "stdout",
     "output_type": "stream",
     "text": [
      "Kmer Analysis Toolkit (KAT) V2.4.2\n",
      "\n",
      "Running KAT in filter sequence mode\n",
      "-----------------------------------\n",
      "\n",
      "Input 49712 is a sequence file.  Counting kmers for input 49712 (kmer-probe/ugd.single.fasta) ... done.  Time taken: 0.1s\n",
      "\n",
      "Filtering sequences ...\n",
      "Processed 100000 pairs\n",
      "Processed 200000 pairs\n",
      "Processed 300000 pairs\n",
      "Processed 400000 pairs\n",
      "Processed 500000 pairs\n",
      "Processed 600000 pairs\n",
      "Processed 700000 pairs\n",
      "Processed 800000 pairs\n",
      "Processed 900000 pairs\n",
      "Processed 1000000 pairs\n",
      "Processed 1100000 pairs\n",
      "Processed 1200000 pairs\n",
      "Processed 1300000 pairs\n",
      "Processed 1400000 pairs\n",
      "Processed 1500000 pairs\n",
      "Processed 1600000 pairs\n",
      "Processed 1700000 pairs\n",
      "Processed 1800000 pairs\n",
      "Processed 1900000 pairs\n",
      "Processed 2000000 pairs\n",
      "Processed 2100000 pairs\n",
      "Finished filtering.  Time taken: 107.9s\n",
      "\n",
      "Found 0 / 2147046 to keep\n",
      "\n",
      "KAT filter seq completed.\n",
      "Total runtime: 108.0s\n",
      "\n",
      "\tCommand being timed: \"kat filter seq -t 1 -o SRR1952908.kat -m 31 --seq ../input/SRR1952908_1.fastq --seq2 ../input/SRR1952908_2.fastq kmer-probe/ugd.single.fasta\"\n",
      "\tUser time (seconds): 106.84\n",
      "\tSystem time (seconds): 1.61\n",
      "\tPercent of CPU this job got: 100%\n",
      "\tElapsed (wall clock) time (h:mm:ss or m:ss): 1:48.06\n",
      "\tAverage shared text size (kbytes): 0\n",
      "\tAverage unshared data size (kbytes): 0\n",
      "\tAverage stack size (kbytes): 0\n",
      "\tAverage total size (kbytes): 0\n",
      "\tMaximum resident set size (kbytes): 843720\n",
      "\tAverage resident set size (kbytes): 0\n",
      "\tMajor (requiring I/O) page faults: 0\n",
      "\tMinor (reclaiming a frame) page faults: 367287\n",
      "\tVoluntary context switches: 12\n",
      "\tInvoluntary context switches: 33\n",
      "\tSwaps: 0\n",
      "\tFile system inputs: 0\n",
      "\tFile system outputs: 0\n",
      "\tSocket messages sent: 0\n",
      "\tSocket messages received: 0\n",
      "\tSignals delivered: 0\n",
      "\tPage size (bytes): 4096\n",
      "\tExit status: 0\n"
     ]
    }
   ],
   "source": [
    "conda run --name kat /usr/bin/time -v kat filter seq -t 1 -o SRR1952908.kat -m ${kmer_length} \\\n",
    "    --seq ../input/SRR1952908_1.fastq --seq2 ../input/SRR1952908_2.fastq \\\n",
    "    kmer-probe/ugd.single.fasta"
   ]
  },
  {
   "cell_type": "code",
   "execution_count": 14,
   "metadata": {},
   "outputs": [
    {
     "name": "stdout",
     "output_type": "stream",
     "text": [
      "total 12K\n",
      "drwxr-xr-x 2 apetkau grp_apetkau 4.0K Jan 17 10:10 \u001b[0m\u001b[01;34mkmer-probe\u001b[0m\n",
      "-rw-r--r-- 1 apetkau grp_apetkau    0 Jan 17 10:10 SRR1952908.kat.in.R2.fastq\n",
      "-rw-r--r-- 1 apetkau grp_apetkau    0 Jan 17 10:10 SRR1952908.kat.in.R1.fastq\n",
      "-rw-r--r-- 1 apetkau grp_apetkau 4.3K Jan 17 10:10 assmebly-kmer-analysis.ipynb\n"
     ]
    }
   ],
   "source": [
    "ls -lrth"
   ]
  }
 ],
 "metadata": {
  "kernelspec": {
   "display_name": "Bash",
   "language": "bash",
   "name": "bash"
  },
  "language_info": {
   "codemirror_mode": "shell",
   "file_extension": ".sh",
   "mimetype": "text/x-sh",
   "name": "bash"
  }
 },
 "nbformat": 4,
 "nbformat_minor": 4
}
