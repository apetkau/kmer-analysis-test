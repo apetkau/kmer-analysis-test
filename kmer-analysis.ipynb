{
 "cells": [
  {
   "cell_type": "code",
   "execution_count": 10,
   "metadata": {},
   "outputs": [],
   "source": [
    "PROJECT_DIR=`git rev-parse --show-toplevel`\n",
    "cd $PROJECT_DIR\n",
    "\n",
    "threads=16"
   ]
  },
  {
   "cell_type": "markdown",
   "metadata": {},
   "source": [
    "# Pull out AMR gene"
   ]
  },
  {
   "cell_type": "code",
   "execution_count": 14,
   "metadata": {},
   "outputs": [
    {
     "name": "stdout",
     "output_type": "stream",
     "text": [
      "2020-01-15 22:35:36 INFO: No --pointfinder-organism specified. Will not search the PointFinder databases\n",
      "2020-01-15 22:35:36 INFO: No --plasmidfinder-database-type specified. Will search the entire PlasmidFinder database\n",
      "2020-01-15 22:35:36 INFO: --output-dir set. All files will be output to [staramr-out]\n",
      "2020-01-15 22:35:36 INFO: Will exclude ResFinder/PointFinder genes listed in [/home/CSCScience.ca/apetkau/miniconda3/envs/staramr/lib/python3.7/site-packages/staramr/databases/exclude/data/genes_to_exclude.tsv]. Use --no-exclude-genes to disable\n",
      "2020-01-15 22:35:36 INFO: Making BLAST databases for input files\n",
      "2020-01-15 22:35:36 INFO: Scheduling blasts and MLST for SRR1952908.fasta\n",
      "2020-01-15 22:35:38 INFO: Finished. Took 0.04 minutes.\n",
      "2020-01-15 22:35:38 INFO: Predicting AMR resistance phenotypes is enabled. The predictions are for microbiological resistance and *not* clinical resistance. These results are continually being improved and we welcome any feedback.\n",
      "2020-01-15 22:35:38 INFO: Writing resfinder to [staramr-out/resfinder.tsv]\n",
      "2020-01-15 22:35:38 INFO: --output-dir or --output-pointfinder unset. No pointfinder file will be written\n",
      "2020-01-15 22:35:38 INFO: Writing plasmidfinder to [staramr-out/plasmidfinder.tsv]\n",
      "2020-01-15 22:35:38 INFO: Writing summary to [staramr-out/summary.tsv]\n",
      "2020-01-15 22:35:38 INFO: Writing MLST summary to [staramr-out/mlst.tsv]\n",
      "2020-01-15 22:35:38 INFO: Writing detailed summary to [staramr-out/detailed_summary.tsv]\n",
      "2020-01-15 22:35:38 INFO: Writing settings to [staramr-out/settings.txt]\n",
      "2020-01-15 22:35:38 INFO: Writing Excel to [staramr-out/results.xlsx]\n",
      "2020-01-15 22:35:38 INFO: BLAST hits are stored in [staramr-out/hits]\n"
     ]
    }
   ],
   "source": [
    "conda run --name staramr staramr search -o staramr-out input/SRR1952908.fasta"
   ]
  },
  {
   "cell_type": "code",
   "execution_count": 22,
   "metadata": {},
   "outputs": [
    {
     "name": "stdout",
     "output_type": "stream",
     "text": [
      ">aadA1_3_JQ414041 isolate: SRR1952908, contig: contig00030, contig_start: 5355, contig_end: 4564, database_gene_start: 1, database_gene_end: 792, hsp/length: 792/792, pid: 100.00%, plength: 100.00%\n",
      "ATGAGGGAAGCGGTGATCGCCGAAGTATCGACTCAACTATCAGAGGTAGTTGGCGTCATC\n",
      "GAGCGCCATCTCGAACCGACGTTGCTGGCCGTACATTTGTACGGCTCCGCAGTGGATGGC\n",
      "GGCCTGAAGCCACACAGTGATATTGATTTGCTGGTTACGGTGACCGTAAGGCTTGATGAA\n",
      "ACAACGCGGCGAGCTTTGATCAACGACCTTTTGGAAACTTCGGCTTCCCCTGGAGAGAGC\n",
      "GAGATTCTCCGCGCTGTAGAAGTCACCATTGTTGTGCACGACGACATCATTCCGTGGCGT\n",
      "TATCCAGCTAAGCGCGAACTGCAATTTGGAGAATGGCAGCGCAATGACATTCTTGCAGGT\n",
      "ATCTTCGAGCCAGCCACGATCGACATTGATCTGGCTATCTTGCTGACAAAAGCAAGAGAA\n",
      "CATAGCGTTGCCTTGGTAGGTCCAGCGGCGGAGGAACTCTTTGATCCGGTTCCTGAACAG\n",
      "GATCTATTTGAGGCGCTAAATGAAACCTTAACGCTATGGAACTCGCCGCCCGACTGGGCT\n"
     ]
    }
   ],
   "source": [
    "head staramr-out/hits/resfinder_SRR1952908.fasta -n 15 > staramr-out/aadA1.fasta\n",
    "head staramr-out/aadA1.fasta"
   ]
  },
  {
   "cell_type": "markdown",
   "metadata": {},
   "source": [
    "# Now, filter reads with kat"
   ]
  },
  {
   "cell_type": "code",
   "execution_count": 18,
   "metadata": {},
   "outputs": [
    {
     "name": "stdout",
     "output_type": "stream",
     "text": [
      "Kmer Analysis Toolkit (KAT) V2.4.2\n",
      "\n",
      "Running KAT in filter sequence mode\n",
      "-----------------------------------\n",
      "\n",
      "Input 9360 is a sequence file.  Counting kmers for input 9360 (staramr-out/hits/resfinder_SRR1952908.fasta) ... done.  Time taken: 0.1s\n",
      "\n",
      "Filtering sequences ...\n",
      "Processed 100000 pairs\n",
      "Processed 200000 pairs\n",
      "Processed 300000 pairs\n",
      "Processed 400000 pairs\n",
      "Processed 500000 pairs\n",
      "Processed 600000 pairs\n",
      "Processed 700000 pairs\n",
      "Processed 800000 pairs\n",
      "Processed 900000 pairs\n",
      "Processed 1000000 pairs\n",
      "Processed 1100000 pairs\n",
      "Processed 1200000 pairs\n",
      "Processed 1300000 pairs\n",
      "Processed 1400000 pairs\n",
      "Processed 1500000 pairs\n",
      "Processed 1600000 pairs\n",
      "Processed 1700000 pairs\n",
      "Processed 1800000 pairs\n",
      "Processed 1900000 pairs\n",
      "Processed 2000000 pairs\n",
      "Processed 2100000 pairs\n",
      "Finished filtering.  Time taken: 109.1s\n",
      "\n",
      "Found 6910 / 2147046 to keep\n",
      "\n",
      "KAT filter seq completed.\n",
      "Total runtime: 109.2s\n",
      "\n",
      "\tCommand being timed: \"kat filter seq -t 16 -o kat.filter.kmer -m 31 --seq input/SRR1952908_1.fastq --seq2 input/SRR1952908_2.fastq staramr-out/hits/resfinder_SRR1952908.fasta\"\n",
      "\tUser time (seconds): 107.83\n",
      "\tSystem time (seconds): 1.82\n",
      "\tPercent of CPU this job got: 100%\n",
      "\tElapsed (wall clock) time (h:mm:ss or m:ss): 1:49.26\n",
      "\tAverage shared text size (kbytes): 0\n",
      "\tAverage unshared data size (kbytes): 0\n",
      "\tAverage stack size (kbytes): 0\n",
      "\tAverage total size (kbytes): 0\n",
      "\tMaximum resident set size (kbytes): 843736\n",
      "\tAverage resident set size (kbytes): 0\n",
      "\tMajor (requiring I/O) page faults: 0\n",
      "\tMinor (reclaiming a frame) page faults: 367333\n",
      "\tVoluntary context switches: 77\n",
      "\tInvoluntary context switches: 135\n",
      "\tSwaps: 0\n",
      "\tFile system inputs: 0\n",
      "\tFile system outputs: 6568\n",
      "\tSocket messages sent: 0\n",
      "\tSocket messages received: 0\n",
      "\tSignals delivered: 0\n",
      "\tPage size (bytes): 4096\n",
      "\tExit status: 0\n"
     ]
    }
   ],
   "source": [
    "conda run --name kat /usr/bin/time -v kat filter seq -t ${threads} -o kat.filter.kmer -m 31 \\\n",
    "    --seq input/SRR1952908_1.fastq --seq2 input/SRR1952908_2.fastq \\\n",
    "    staramr-out/hits/resfinder_SRR1952908.fasta"
   ]
  },
  {
   "cell_type": "code",
   "execution_count": 19,
   "metadata": {},
   "outputs": [
    {
     "name": "stdout",
     "output_type": "stream",
     "text": [
      "-rw-r--r-- 1 apetkau grp_apetkau 1.6M Jan 15 23:06 kat.filter.kmer.in.R2.fastq\n",
      "-rw-r--r-- 1 apetkau grp_apetkau 1.6M Jan 15 23:06 kat.filter.kmer.in.R1.fastq\n"
     ]
    }
   ],
   "source": [
    "ls -lrth kat.filter.kmer*"
   ]
  },
  {
   "cell_type": "markdown",
   "metadata": {},
   "source": [
    "# Assemble extracted reads"
   ]
  },
  {
   "cell_type": "code",
   "execution_count": 8,
   "metadata": {},
   "outputs": [
    {
     "name": "stdout",
     "output_type": "stream",
     "text": [
      "\n",
      "General options:\n",
      "  -h [ --help ]                 Produce help message\n",
      "  -v [ --version ]              Print version\n",
      "  --cores arg (=0)              Number of cores to use (default all) [integer]\n",
      "  --memory arg (=32)            Memory available (GB, only for sorted counter) \n",
      "                                [integer]\n",
      "  --hash_count                  Use hash counter [flag]\n",
      "  --estimated_kmers arg (=100)  Estimated number of unique kmers for bloom \n",
      "                                filter (M, only for hash counter) [integer]\n",
      "  --skip_bloom_filter           Don't do bloom filter; use --estimated_kmers as\n",
      "                                the hash table size (only for hash counter) \n",
      "                                [flag]\n",
      "\n",
      "Input/output options : at least one input providing reads for assembly must be specified:\n",
      "  --fasta arg                   Input fasta file(s) (could be used multiple \n",
      "                                times for different runs) [string]\n",
      "  --fastq arg                   Input fastq file(s) (could be used multiple \n",
      "                                times for different runs) [string]\n",
      "  --use_paired_ends             Indicates that a single (not comma separated) \n",
      "                                fasta/fastq file contains paired reads [flag]\n",
      "  --contigs_out arg             Output file for contigs (stdout if not \n",
      "                                specified) [string]\n",
      "\n",
      "Assembly options:\n",
      "  --kmer arg (=21)              Minimal kmer length for assembly [integer]\n",
      "  --min_count arg               Minimal count for kmers retained for comparing \n",
      "                                alternate choices [integer]\n",
      "  --max_kmer_count arg          Minimum acceptable average count for estimating\n",
      "                                the maximal kmer length in reads [integer]\n",
      "  --vector_percent arg (=0.05)  Count for  vectors as a fraction of the read \n",
      "                                number (1. disables) [float (0,1]]\n",
      "  --insert_size arg             Expected insert size for paired reads (if not \n",
      "                                provided, it will be estimated) [integer]\n",
      "  --steps arg (=11)             Number of assembly iterations from minimal to \n",
      "                                maximal kmer length in reads [integer]\n",
      "  --fraction arg (=0.1)         Maximum noise to signal ratio acceptable for \n",
      "                                extension [float [0,1)]\n",
      "  --max_snp_len arg (=150)      Maximal snp length [integer]\n",
      "  --min_contig arg (=200)       Minimal contig length reported in output \n",
      "                                [integer]\n",
      "  --allow_snps                  Allow additional step for snp discovery [flag]\n",
      "\n",
      "Debugging options:\n",
      "  --force_single_ends           Don't use paired-end information [flag]\n",
      "  --seeds arg                   Input file with seeds [string]\n",
      "  --all arg                     Output fasta for each iteration [string]\n",
      "  --dbg_out arg                 Output kmer file [string]\n",
      "  --hist arg                    File for histogram [string]\n",
      "  --connected_reads arg         File for connected paired reads [string]\n",
      "\n",
      "skesa --help \n",
      "\n"
     ]
    }
   ],
   "source": [
    "conda run --name skesa skesa --help"
   ]
  },
  {
   "cell_type": "code",
   "execution_count": 20,
   "metadata": {},
   "outputs": [
    {
     "name": "stdout",
     "output_type": "stream",
     "text": [
      "skesa --cores 16 --fastq kat.filter.kmer.in.R1.fastq,kat.filter.kmer.in.R2.fastq --contigs_out kat.filter.contigs.fasta --vector_percent 1 \n",
      "\n",
      "Total mates: 13820 Paired reads: 6910\n",
      "Reads acquired in  0.048775s wall, 0.050000s user + 0.000000s system = 0.050000s CPU (102.5%)\n",
      "Adapters clip is disabled\n",
      "\n",
      "Kmer len: 21\n",
      "Raw kmers: 1093098 Memory needed (GB): 0.0209875 Memory available (GB): 29.9992 1 cycle(s) will be performed\n",
      "Distinct kmers: 13092\n",
      "Kmer count in  0.070999s wall, 0.510000s user + 0.060000s system = 0.570000s CPU (802.8%)\n",
      "Uniq kmers merging in  0.009771s wall, 0.000000s user + 0.030000s system = 0.030000s CPU (307.0%)\n",
      "WARNING: --min_count changed from 2 to 5 because of high coverage for genome size 5240\n",
      "WARNING: --max_kmer_count 10 to 26 because of high coverage for genome size 5240\n",
      "Kmers branching in  0.003321s wall, 0.030000s user + 0.000000s system = 0.030000s CPU (903.3%)\n",
      "\n",
      "Average read length: 99\n",
      "Genome size estimate: 1346\n",
      "\n",
      "Kmer: 21 Graph size: 9082 Contigs in: 0\n",
      "Valley: 0\n",
      "\n",
      "Mark used kmers in  0.000007s wall, 0.000000s user + 0.000000s system = 0.000000s CPU (n/a%)\n",
      "Kmers in multiple/single contigs: 0 0\n",
      "Fragments before: 59 8531\n",
      "Fragments after: 22 8531\n",
      "New seeds: 12\n",
      "New seeds in  0.009696s wall, 0.110000s user + 0.010000s system = 0.120000s CPU (1237.7%)\n",
      "Fragments before: 24 504\n",
      "Fragments after: 24 504\n",
      "Connectors: 0 Extenders: 24\n",
      "Connections and extensions in  0.007181s wall, 0.000000s user + 0.020000s system = 0.020000s CPU (278.5%)\n",
      "Contigs out: 12 Genome: 7654 N50: 1381 L50: 3\n",
      "Assembled in  0.017138s wall, 0.110000s user + 0.030000s system = 0.140000s CPU (816.9%)\n",
      "\n",
      "\n",
      "Average count: 8.10401 Max kmer: 21\n",
      "Connected: 5003 ambiguously connected: 1646 from 6910 mate pairs\n",
      "Connect pairs in  0.813322s wall, 8.450000s user + 0.020000s system = 8.470000s CPU (1041.4%)\n",
      "\n",
      "N50 for inserts: 271\n",
      "\n",
      "Seed kmers: 0\n",
      "Cleaned reads: 12524\n",
      "Reads for connection: 12362\n",
      "Internal reads: 29\n",
      "Reads cleaned in  0.054722s wall, 0.600000s user + 0.010000s system = 0.610000s CPU (1114.7%)\n",
      "WARNING: iterations are disabled\n",
      "\n",
      "Connecting mate pairs using kmer length: 21\n",
      "Connected: 5571 ambiguously connected: 351 from 6181 mate pairs\n",
      "Connect pairs in  0.364622s wall, 5.490000s user + 0.010000s system = 5.500000s CPU (1508.4%)\n",
      "Totally connected: 5571\n",
      "Added notconnected: 702\n",
      "\n",
      "Kmer len: 25\n",
      "Raw kmers: 1410450 Memory needed (GB): 0.0270806 Memory available (GB): 29.999 1 cycle(s) will be performed\n",
      "Distinct kmers: 8363\n",
      "Kmer count in  0.053037s wall, 0.510000s user + 0.060000s system = 0.570000s CPU (1074.7%)\n",
      "Uniq kmers merging in  0.010398s wall, 0.010000s user + 0.010000s system = 0.020000s CPU (192.3%)\n",
      "Kmers branching in  0.003861s wall, 0.040000s user + 0.000000s system = 0.040000s CPU (1035.9%)\n",
      "Kmer: 25 Graph size: 8363 Contigs in: 12\n",
      "Valley: 5\n",
      "\n",
      "Mark used kmers in  0.001957s wall, 0.010000s user + 0.000000s system = 0.010000s CPU (511.0%)\n",
      "Kmers in multiple/single contigs: 0 7285\n",
      "Fragments before: 33 952\n",
      "Fragments after: 27 952\n",
      "New seeds: 2\n",
      "New seeds in  0.007820s wall, 0.080000s user + 0.010000s system = 0.090000s CPU (1150.8%)\n",
      "Fragments before: 25 624\n",
      "Fragments after: 25 624\n",
      "Connectors: 0 Extenders: 25\n",
      "Connections and extensions in  0.005333s wall, 0.010000s user + 0.010000s system = 0.020000s CPU (375.1%)\n",
      "Contigs out: 14 Genome: 7850 N50: 1385 L50: 3\n",
      "Assembled in  0.015365s wall, 0.100000s user + 0.020000s system = 0.120000s CPU (781.0%)\n",
      "\n",
      "\n",
      "Kmer len: 147\n",
      "Raw kmers: 678927 Memory needed (GB): 0.0391062 Memory available (GB): 29.9988 1 cycle(s) will be performed\n",
      "Distinct kmers: 7678\n",
      "Kmer count in  0.055691s wall, 0.530000s user + 0.040000s system = 0.570000s CPU (1023.5%)\n",
      "Uniq kmers merging in  0.010799s wall, 0.010000s user + 0.020000s system = 0.030000s CPU (277.8%)\n",
      "Kmers branching in  0.003665s wall, 0.040000s user + 0.000000s system = 0.040000s CPU (1091.5%)\n",
      "Kmer: 147 Graph size: 7678 Contigs in: 14\n",
      "Valley: 5\n",
      "\n",
      "Mark used kmers in  0.002400s wall, 0.010000s user + 0.000000s system = 0.010000s CPU (416.7%)\n",
      "Kmers in multiple/single contigs: 0 5819\n",
      "Fragments before: 26 1859\n",
      "Fragments after: 13 1859\n",
      "New seeds: 0\n",
      "New seeds in  0.008232s wall, 0.060000s user + 0.010000s system = 0.070000s CPU (850.4%)\n",
      "Fragments before: 18 1859\n",
      "Fragments after: 13 1859\n",
      "Connectors: 5 Extenders: 8\n",
      "Connections and extensions in  0.007678s wall, 0.020000s user + 0.000000s system = 0.020000s CPU (260.5%)\n",
      "Contigs out: 5 Genome: 8261 N50: 1997 L50: 2\n",
      "Assembled in  0.020786s wall, 0.090000s user + 0.010000s system = 0.100000s CPU (481.1%)\n",
      "\n",
      "\n",
      "Kmer len: 271\n",
      "Raw kmers: 255418 Memory needed (GB): 0.0245201 Memory available (GB): 29.9984 1 cycle(s) will be performed\n",
      "Distinct kmers: 6577\n",
      "Kmer count in  0.032933s wall, 0.270000s user + 0.060000s system = 0.330000s CPU (1002.0%)\n",
      "Uniq kmers merging in  0.011084s wall, 0.010000s user + 0.020000s system = 0.030000s CPU (270.7%)\n",
      "Kmers branching in  0.003951s wall, 0.040000s user + 0.000000s system = 0.040000s CPU (1012.4%)\n",
      "Kmer: 271 Graph size: 6577 Contigs in: 5\n",
      "Valley: 5\n",
      "\n",
      "Mark used kmers in  0.004204s wall, 0.000000s user + 0.010000s system = 0.010000s CPU (237.9%)\n",
      "Kmers in multiple/single contigs: 0 6262\n",
      "Fragments before: 12 315\n",
      "Fragments after: 8 315\n",
      "New seeds: 0\n",
      "New seeds in  0.006574s wall, 0.070000s user + 0.000000s system = 0.070000s CPU (1064.8%)\n",
      "Fragments before: 8 315\n",
      "Fragments after: 8 315\n",
      "Connectors: 0 Extenders: 8\n",
      "Connections and extensions in  0.007029s wall, 0.010000s user + 0.000000s system = 0.010000s CPU (142.3%)\n",
      "Contigs out: 5 Genome: 8261 N50: 1997 L50: 2\n",
      "Assembled in  0.018042s wall, 0.080000s user + 0.010000s system = 0.090000s CPU (498.8%)\n",
      "\n",
      "DONE\n",
      "\tCommand being timed: \"skesa --cores 16 --fastq kat.filter.kmer.in.R1.fastq,kat.filter.kmer.in.R2.fastq --contigs_out kat.filter.contigs.fasta --vector_percent 1\"\n",
      "\tUser time (seconds): 17.03\n",
      "\tSystem time (seconds): 0.42\n",
      "\tPercent of CPU this job got: 1027%\n",
      "\tElapsed (wall clock) time (h:mm:ss or m:ss): 0:01.69\n",
      "\tAverage shared text size (kbytes): 0\n",
      "\tAverage unshared data size (kbytes): 0\n",
      "\tAverage stack size (kbytes): 0\n",
      "\tAverage total size (kbytes): 0\n",
      "\tMaximum resident set size (kbytes): 54596\n",
      "\tAverage resident set size (kbytes): 0\n",
      "\tMajor (requiring I/O) page faults: 0\n",
      "\tMinor (reclaiming a frame) page faults: 35279\n",
      "\tVoluntary context switches: 10936\n",
      "\tInvoluntary context switches: 59\n",
      "\tSwaps: 0\n",
      "\tFile system inputs: 0\n",
      "\tFile system outputs: 24\n",
      "\tSocket messages sent: 0\n",
      "\tSocket messages received: 0\n",
      "\tSignals delivered: 0\n",
      "\tPage size (bytes): 4096\n",
      "\tExit status: 0\n"
     ]
    }
   ],
   "source": [
    "conda run --name skesa /usr/bin/time -v skesa --cores ${threads} \\\n",
    "    --fastq kat.filter.kmer.in.R1.fastq,kat.filter.kmer.in.R2.fastq \\\n",
    "    --contigs_out kat.filter.contigs.fasta --vector_percent 1"
   ]
  },
  {
   "cell_type": "code",
   "execution_count": 21,
   "metadata": {},
   "outputs": [
    {
     "name": "stdout",
     "output_type": "stream",
     "text": [
      "-rw-r--r-- 1 apetkau grp_apetkau 8.2K Jan 15 23:06 kat.filter.contigs.fasta\n"
     ]
    }
   ],
   "source": [
    "ls -lh *.fasta"
   ]
  },
  {
   "cell_type": "code",
   "execution_count": 22,
   "metadata": {},
   "outputs": [
    {
     "name": "stdout",
     "output_type": "stream",
     "text": [
      "2020-01-15 23:07:24 INFO: No --pointfinder-organism specified. Will not search the PointFinder databases\n",
      "2020-01-15 23:07:24 INFO: No --plasmidfinder-database-type specified. Will search the entire PlasmidFinder database\n",
      "2020-01-15 23:07:24 INFO: --output-dir set. All files will be output to [kat-staramr-out]\n",
      "2020-01-15 23:07:24 INFO: Will exclude ResFinder/PointFinder genes listed in [/home/CSCScience.ca/apetkau/miniconda3/envs/staramr/lib/python3.7/site-packages/staramr/databases/exclude/data/genes_to_exclude.tsv]. Use --no-exclude-genes to disable\n",
      "2020-01-15 23:07:24 INFO: Making BLAST databases for input files\n",
      "2020-01-15 23:07:25 INFO: Scheduling blasts and MLST for kat.filter.contigs.fasta\n",
      "2020-01-15 23:07:25 INFO: Finished. Took 0.01 minutes.\n",
      "2020-01-15 23:07:25 INFO: Predicting AMR resistance phenotypes is enabled. The predictions are for microbiological resistance and *not* clinical resistance. These results are continually being improved and we welcome any feedback.\n",
      "2020-01-15 23:07:25 INFO: Writing resfinder to [kat-staramr-out/resfinder.tsv]\n",
      "2020-01-15 23:07:25 INFO: --output-dir or --output-pointfinder unset. No pointfinder file will be written\n",
      "2020-01-15 23:07:25 INFO: Writing plasmidfinder to [kat-staramr-out/plasmidfinder.tsv]\n",
      "2020-01-15 23:07:25 INFO: Writing summary to [kat-staramr-out/summary.tsv]\n",
      "2020-01-15 23:07:25 INFO: Writing MLST summary to [kat-staramr-out/mlst.tsv]\n",
      "2020-01-15 23:07:25 INFO: Writing detailed summary to [kat-staramr-out/detailed_summary.tsv]\n",
      "2020-01-15 23:07:25 INFO: Writing settings to [kat-staramr-out/settings.txt]\n",
      "2020-01-15 23:07:25 INFO: Writing Excel to [kat-staramr-out/results.xlsx]\n",
      "2020-01-15 23:07:25 INFO: BLAST hits are stored in [kat-staramr-out/hits]\n"
     ]
    }
   ],
   "source": [
    "conda run --name staramr staramr search -o kat-staramr-out kat.filter.contigs.fasta"
   ]
  },
  {
   "cell_type": "markdown",
   "metadata": {},
   "source": [
    "# Compare results (detected AMR)"
   ]
  },
  {
   "cell_type": "code",
   "execution_count": 26,
   "metadata": {},
   "outputs": [
    {
     "name": "stdout",
     "output_type": "stream",
     "text": [
      "Isolate ID\tGenotype\tPredicted Phenotype\n",
      "kat.filter.contigs\taadA1, aadA2, blaTEM-57, cmlA1, sul3, tet(A)\tstreptomycin, ampicillin, chloramphenicol, sulfisoxazole, tetracycline\n"
     ]
    }
   ],
   "source": [
    "cut -f 1,3,4 kat-staramr-out/summary.tsv"
   ]
  },
  {
   "cell_type": "code",
   "execution_count": 27,
   "metadata": {},
   "outputs": [
    {
     "name": "stdout",
     "output_type": "stream",
     "text": [
      "Isolate ID\tGenotype\tPredicted Phenotype\n",
      "SRR1952908\taadA1, aadA2, blaTEM-57, cmlA1, sul3, tet(A)\tstreptomycin, ampicillin, chloramphenicol, sulfisoxazole, tetracycline\n"
     ]
    }
   ],
   "source": [
    "cut -f 1,3,4 staramr-out/summary.tsv"
   ]
  }
 ],
 "metadata": {
  "kernelspec": {
   "display_name": "Bash",
   "language": "bash",
   "name": "bash"
  },
  "language_info": {
   "codemirror_mode": "shell",
   "file_extension": ".sh",
   "mimetype": "text/x-sh",
   "name": "bash"
  }
 },
 "nbformat": 4,
 "nbformat_minor": 4
}
