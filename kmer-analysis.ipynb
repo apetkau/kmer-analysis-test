{
 "cells": [
  {
   "cell_type": "code",
   "execution_count": 10,
   "metadata": {},
   "outputs": [],
   "source": [
    "PROJECT_DIR=`git rev-parse --show-toplevel`\n",
    "cd $PROJECT_DIR\n",
    "\n",
    "threads=16"
   ]
  },
  {
   "cell_type": "markdown",
   "metadata": {},
   "source": [
    "# Pull out AMR gene"
   ]
  },
  {
   "cell_type": "code",
   "execution_count": 14,
   "metadata": {},
   "outputs": [
    {
     "name": "stdout",
     "output_type": "stream",
     "text": [
      "2020-01-15 22:35:36 INFO: No --pointfinder-organism specified. Will not search the PointFinder databases\n",
      "2020-01-15 22:35:36 INFO: No --plasmidfinder-database-type specified. Will search the entire PlasmidFinder database\n",
      "2020-01-15 22:35:36 INFO: --output-dir set. All files will be output to [staramr-out]\n",
      "2020-01-15 22:35:36 INFO: Will exclude ResFinder/PointFinder genes listed in [/home/CSCScience.ca/apetkau/miniconda3/envs/staramr/lib/python3.7/site-packages/staramr/databases/exclude/data/genes_to_exclude.tsv]. Use --no-exclude-genes to disable\n",
      "2020-01-15 22:35:36 INFO: Making BLAST databases for input files\n",
      "2020-01-15 22:35:36 INFO: Scheduling blasts and MLST for SRR1952908.fasta\n",
      "2020-01-15 22:35:38 INFO: Finished. Took 0.04 minutes.\n",
      "2020-01-15 22:35:38 INFO: Predicting AMR resistance phenotypes is enabled. The predictions are for microbiological resistance and *not* clinical resistance. These results are continually being improved and we welcome any feedback.\n",
      "2020-01-15 22:35:38 INFO: Writing resfinder to [staramr-out/resfinder.tsv]\n",
      "2020-01-15 22:35:38 INFO: --output-dir or --output-pointfinder unset. No pointfinder file will be written\n",
      "2020-01-15 22:35:38 INFO: Writing plasmidfinder to [staramr-out/plasmidfinder.tsv]\n",
      "2020-01-15 22:35:38 INFO: Writing summary to [staramr-out/summary.tsv]\n",
      "2020-01-15 22:35:38 INFO: Writing MLST summary to [staramr-out/mlst.tsv]\n",
      "2020-01-15 22:35:38 INFO: Writing detailed summary to [staramr-out/detailed_summary.tsv]\n",
      "2020-01-15 22:35:38 INFO: Writing settings to [staramr-out/settings.txt]\n",
      "2020-01-15 22:35:38 INFO: Writing Excel to [staramr-out/results.xlsx]\n",
      "2020-01-15 22:35:38 INFO: BLAST hits are stored in [staramr-out/hits]\n"
     ]
    }
   ],
   "source": [
    "conda run --name staramr staramr search -o staramr-out input/SRR1952908.fasta"
   ]
  },
  {
   "cell_type": "code",
   "execution_count": 22,
   "metadata": {},
   "outputs": [
    {
     "name": "stdout",
     "output_type": "stream",
     "text": [
      ">aadA1_3_JQ414041 isolate: SRR1952908, contig: contig00030, contig_start: 5355, contig_end: 4564, database_gene_start: 1, database_gene_end: 792, hsp/length: 792/792, pid: 100.00%, plength: 100.00%\n",
      "ATGAGGGAAGCGGTGATCGCCGAAGTATCGACTCAACTATCAGAGGTAGTTGGCGTCATC\n",
      "GAGCGCCATCTCGAACCGACGTTGCTGGCCGTACATTTGTACGGCTCCGCAGTGGATGGC\n",
      "GGCCTGAAGCCACACAGTGATATTGATTTGCTGGTTACGGTGACCGTAAGGCTTGATGAA\n",
      "ACAACGCGGCGAGCTTTGATCAACGACCTTTTGGAAACTTCGGCTTCCCCTGGAGAGAGC\n",
      "GAGATTCTCCGCGCTGTAGAAGTCACCATTGTTGTGCACGACGACATCATTCCGTGGCGT\n",
      "TATCCAGCTAAGCGCGAACTGCAATTTGGAGAATGGCAGCGCAATGACATTCTTGCAGGT\n",
      "ATCTTCGAGCCAGCCACGATCGACATTGATCTGGCTATCTTGCTGACAAAAGCAAGAGAA\n",
      "CATAGCGTTGCCTTGGTAGGTCCAGCGGCGGAGGAACTCTTTGATCCGGTTCCTGAACAG\n",
      "GATCTATTTGAGGCGCTAAATGAAACCTTAACGCTATGGAACTCGCCGCCCGACTGGGCT\n"
     ]
    }
   ],
   "source": [
    "head staramr-out/hits/resfinder_SRR1952908.fasta -n 15 > staramr-out/aadA1.fasta\n",
    "head staramr-out/aadA1.fasta"
   ]
  },
  {
   "cell_type": "markdown",
   "metadata": {},
   "source": [
    "# Now, filter reads with kat"
   ]
  },
  {
   "cell_type": "code",
   "execution_count": 26,
   "metadata": {},
   "outputs": [
    {
     "name": "stdout",
     "output_type": "stream",
     "text": [
      "Kmer Analysis Toolkit (KAT) V2.4.2\n",
      "\n",
      "Running KAT in filter sequence mode\n",
      "-----------------------------------\n",
      "\n",
      "Input 57904 is a sequence file.  Counting kmers for input 57904 (staramr-out/aadA1.fasta) ... done.  Time taken: 0.1s\n",
      "\n",
      "Filtering sequences ...\n",
      "Processed 100000 pairs\n",
      "Processed 200000 pairs\n",
      "Processed 300000 pairs\n",
      "Processed 400000 pairs\n",
      "Processed 500000 pairs\n",
      "Processed 600000 pairs\n",
      "Processed 700000 pairs\n",
      "Processed 800000 pairs\n",
      "Processed 900000 pairs\n",
      "Processed 1000000 pairs\n",
      "Processed 1100000 pairs\n",
      "Processed 1200000 pairs\n",
      "Processed 1300000 pairs\n",
      "Processed 1400000 pairs\n",
      "Processed 1500000 pairs\n",
      "Processed 1600000 pairs\n",
      "Processed 1700000 pairs\n",
      "Processed 1800000 pairs\n",
      "Processed 1900000 pairs\n",
      "Processed 2000000 pairs\n",
      "Processed 2100000 pairs\n",
      "Finished filtering.  Time taken: 107.2s\n",
      "\n",
      "Found 1224 / 2147046 to keep\n",
      "\n",
      "KAT filter seq completed.\n",
      "Total runtime: 107.4s\n",
      "\n",
      "\tCommand being timed: \"kat filter seq -t 16 -o kat.filter.kmer -m 31 --seq input/SRR1952908_1.fastq --seq2 input/SRR1952908_2.fastq staramr-out/aadA1.fasta\"\n",
      "\tUser time (seconds): 106.38\n",
      "\tSystem time (seconds): 1.42\n",
      "\tPercent of CPU this job got: 100%\n",
      "\tElapsed (wall clock) time (h:mm:ss or m:ss): 1:47.42\n",
      "\tAverage shared text size (kbytes): 0\n",
      "\tAverage unshared data size (kbytes): 0\n",
      "\tAverage stack size (kbytes): 0\n",
      "\tAverage total size (kbytes): 0\n",
      "\tMaximum resident set size (kbytes): 843840\n",
      "\tAverage resident set size (kbytes): 0\n",
      "\tMajor (requiring I/O) page faults: 0\n",
      "\tMinor (reclaiming a frame) page faults: 314906\n",
      "\tVoluntary context switches: 66\n",
      "\tInvoluntary context switches: 68\n",
      "\tSwaps: 0\n",
      "\tFile system inputs: 0\n",
      "\tFile system outputs: 1328\n",
      "\tSocket messages sent: 0\n",
      "\tSocket messages received: 0\n",
      "\tSignals delivered: 0\n",
      "\tPage size (bytes): 4096\n",
      "\tExit status: 0\n"
     ]
    }
   ],
   "source": [
    "threads=16\n",
    "conda run --name kat /usr/bin/time -v kat filter seq -t ${threads} -o kat.filter.kmer -m 31 \\\n",
    "    --seq input/SRR1952908_1.fastq --seq2 input/SRR1952908_2.fastq \\\n",
    "    staramr-out/aadA1.fasta"
   ]
  },
  {
   "cell_type": "code",
   "execution_count": 28,
   "metadata": {},
   "outputs": [
    {
     "name": "stdout",
     "output_type": "stream",
     "text": [
      "-rw-r--r-- 1 apetkau grp_apetkau 277K Jan 15 22:44 kat.filter.kmer.in.R2.fastq\n",
      "-rw-r--r-- 1 apetkau grp_apetkau 278K Jan 15 22:44 kat.filter.kmer.in.R1.fastq\n"
     ]
    }
   ],
   "source": [
    "ls -lrth kat.filter.kmer*"
   ]
  },
  {
   "cell_type": "markdown",
   "metadata": {},
   "source": [
    "# Assemble extracted reads"
   ]
  },
  {
   "cell_type": "code",
   "execution_count": 8,
   "metadata": {},
   "outputs": [
    {
     "name": "stdout",
     "output_type": "stream",
     "text": [
      "\n",
      "General options:\n",
      "  -h [ --help ]                 Produce help message\n",
      "  -v [ --version ]              Print version\n",
      "  --cores arg (=0)              Number of cores to use (default all) [integer]\n",
      "  --memory arg (=32)            Memory available (GB, only for sorted counter) \n",
      "                                [integer]\n",
      "  --hash_count                  Use hash counter [flag]\n",
      "  --estimated_kmers arg (=100)  Estimated number of unique kmers for bloom \n",
      "                                filter (M, only for hash counter) [integer]\n",
      "  --skip_bloom_filter           Don't do bloom filter; use --estimated_kmers as\n",
      "                                the hash table size (only for hash counter) \n",
      "                                [flag]\n",
      "\n",
      "Input/output options : at least one input providing reads for assembly must be specified:\n",
      "  --fasta arg                   Input fasta file(s) (could be used multiple \n",
      "                                times for different runs) [string]\n",
      "  --fastq arg                   Input fastq file(s) (could be used multiple \n",
      "                                times for different runs) [string]\n",
      "  --use_paired_ends             Indicates that a single (not comma separated) \n",
      "                                fasta/fastq file contains paired reads [flag]\n",
      "  --contigs_out arg             Output file for contigs (stdout if not \n",
      "                                specified) [string]\n",
      "\n",
      "Assembly options:\n",
      "  --kmer arg (=21)              Minimal kmer length for assembly [integer]\n",
      "  --min_count arg               Minimal count for kmers retained for comparing \n",
      "                                alternate choices [integer]\n",
      "  --max_kmer_count arg          Minimum acceptable average count for estimating\n",
      "                                the maximal kmer length in reads [integer]\n",
      "  --vector_percent arg (=0.05)  Count for  vectors as a fraction of the read \n",
      "                                number (1. disables) [float (0,1]]\n",
      "  --insert_size arg             Expected insert size for paired reads (if not \n",
      "                                provided, it will be estimated) [integer]\n",
      "  --steps arg (=11)             Number of assembly iterations from minimal to \n",
      "                                maximal kmer length in reads [integer]\n",
      "  --fraction arg (=0.1)         Maximum noise to signal ratio acceptable for \n",
      "                                extension [float [0,1)]\n",
      "  --max_snp_len arg (=150)      Maximal snp length [integer]\n",
      "  --min_contig arg (=200)       Minimal contig length reported in output \n",
      "                                [integer]\n",
      "  --allow_snps                  Allow additional step for snp discovery [flag]\n",
      "\n",
      "Debugging options:\n",
      "  --force_single_ends           Don't use paired-end information [flag]\n",
      "  --seeds arg                   Input file with seeds [string]\n",
      "  --all arg                     Output fasta for each iteration [string]\n",
      "  --dbg_out arg                 Output kmer file [string]\n",
      "  --hist arg                    File for histogram [string]\n",
      "  --connected_reads arg         File for connected paired reads [string]\n",
      "\n",
      "skesa --help \n",
      "\n"
     ]
    }
   ],
   "source": [
    "conda run --name skesa skesa --help"
   ]
  },
  {
   "cell_type": "code",
   "execution_count": 11,
   "metadata": {},
   "outputs": [
    {
     "name": "stdout",
     "output_type": "stream",
     "text": [
      "skesa --cores 16 --fastq kat.filter.kmer.in.R1.fastq,kat.filter.kmer.in.R2.fastq --contigs_out kat.filter.contigs.fasta --vector_percent 1 \n",
      "\n",
      "Total mates: 2448 Paired reads: 1224\n",
      "Reads acquired in  0.005521s wall, 0.000000s user + 0.000000s system = 0.000000s CPU (n/a%)\n",
      "Adapters clip is disabled\n",
      "\n",
      "Kmer len: 21\n",
      "Raw kmers: 193740 Memory needed (GB): 0.00371981 Memory available (GB): 29.9999 1 cycle(s) will be performed\n",
      "Distinct kmers: 3446\n",
      "Kmer count in  0.021522s wall, 0.100000s user + 0.030000s system = 0.130000s CPU (604.0%)\n",
      "Uniq kmers merging in  0.007879s wall, 0.010000s user + 0.010000s system = 0.020000s CPU (253.8%)\n",
      "WARNING: --min_count changed from 2 to 3 because of high coverage for genome size 1451\n",
      "WARNING: --max_kmer_count 10 to 17 because of high coverage for genome size 1451\n",
      "Kmers branching in  0.001827s wall, 0.010000s user + 0.000000s system = 0.010000s CPU (547.3%)\n",
      "\n",
      "Average read length: 99\n",
      "Genome size estimate: 963\n",
      "\n",
      "Kmer: 21 Graph size: 2958 Contigs in: 0\n",
      "Valley: 0\n",
      "\n",
      "Mark used kmers in  0.000010s wall, 0.000000s user + 0.000000s system = 0.000000s CPU (n/a%)\n",
      "Kmers in multiple/single contigs: 0 0\n",
      "Fragments before: 39 2642\n",
      "Fragments after: 16 2642\n",
      "New seeds: 6\n",
      "New seeds in  0.004617s wall, 0.040000s user + 0.010000s system = 0.050000s CPU (1082.9%)\n",
      "Fragments before: 12 252\n",
      "Fragments after: 12 252\n",
      "Connectors: 0 Extenders: 12\n",
      "Connections and extensions in  0.003906s wall, 0.010000s user + 0.010000s system = 0.020000s CPU (512.0%)\n",
      "Contigs out: 6 Genome: 1933 N50: 533 L50: 2\n",
      "Assembled in  0.008711s wall, 0.050000s user + 0.020000s system = 0.070000s CPU (803.6%)\n",
      "\n",
      "\n",
      "Average count: 5.61371 Max kmer: 21\n",
      "Connected: 964 ambiguously connected: 209 from 1224 mate pairs\n",
      "Connect pairs in  0.480782s wall, 0.960000s user + 0.000000s system = 0.960000s CPU (199.7%)\n",
      "\n",
      "N50 for inserts: 249\n",
      "\n",
      "Seed kmers: 0\n",
      "Cleaned reads: 2430\n",
      "Reads for connection: 2426\n",
      "Internal reads: 1\n",
      "Reads cleaned in  0.015251s wall, 0.140000s user + 0.000000s system = 0.140000s CPU (918.0%)\n",
      "WARNING: iterations are disabled\n",
      "\n",
      "Connecting mate pairs using kmer length: 21\n",
      "Connected: 953 ambiguously connected: 207 from 1213 mate pairs\n",
      "Connect pairs in  0.073111s wall, 1.080000s user + 0.000000s system = 1.080000s CPU (1477.2%)\n",
      "Totally connected: 953\n",
      "Added notconnected: 414\n",
      "\n",
      "Kmer len: 25\n",
      "Raw kmers: 260240 Memory needed (GB): 0.00499661 Memory available (GB): 29.9998 1 cycle(s) will be performed\n",
      "Distinct kmers: 2385\n",
      "Kmer count in  0.017955s wall, 0.130000s user + 0.010000s system = 0.140000s CPU (779.7%)\n",
      "Uniq kmers merging in  0.008210s wall, 0.010000s user + 0.010000s system = 0.020000s CPU (243.6%)\n",
      "Kmers branching in  0.001874s wall, 0.000000s user + 0.000000s system = 0.000000s CPU (n/a%)\n",
      "Kmer: 25 Graph size: 2385 Contigs in: 6\n",
      "Valley: 0\n",
      "\n",
      "Mark used kmers in  0.001241s wall, 0.000000s user + 0.000000s system = 0.000000s CPU (n/a%)\n",
      "Kmers in multiple/single contigs: 0 1562\n",
      "Fragments before: 26 746\n",
      "Fragments after: 16 746\n",
      "New seeds: 2\n",
      "New seeds in  0.003746s wall, 0.030000s user + 0.000000s system = 0.030000s CPU (800.9%)\n",
      "Fragments before: 14 350\n",
      "Fragments after: 13 350\n",
      "Connectors: 1 Extenders: 12\n",
      "Connections and extensions in  0.003887s wall, 0.010000s user + 0.010000s system = 0.020000s CPU (514.5%)\n",
      "Contigs out: 7 Genome: 2153 N50: 580 L50: 2\n",
      "Assembled in  0.009034s wall, 0.040000s user + 0.010000s system = 0.050000s CPU (553.4%)\n",
      "\n",
      "\n",
      "Kmer len: 137\n",
      "Raw kmers: 117019 Memory needed (GB): 0.00674029 Memory available (GB): 29.9997 1 cycle(s) will be performed\n",
      "Distinct kmers: 2201\n",
      "Kmer count in  0.024940s wall, 0.140000s user + 0.030000s system = 0.170000s CPU (681.6%)\n",
      "Uniq kmers merging in  0.008241s wall, 0.010000s user + 0.010000s system = 0.020000s CPU (242.7%)\n",
      "Kmers branching in  0.001816s wall, 0.020000s user + 0.000000s system = 0.020000s CPU (1101.1%)\n",
      "Kmer: 137 Graph size: 2201 Contigs in: 7\n",
      "Valley: 0\n",
      "\n",
      "Mark used kmers in  0.001351s wall, 0.000000s user + 0.000000s system = 0.000000s CPU (n/a%)\n",
      "Kmers in multiple/single contigs: 0 1116\n",
      "Fragments before: 19 1085\n",
      "Fragments after: 6 1085\n",
      "New seeds: 0\n",
      "New seeds in  0.004253s wall, 0.030000s user + 0.000000s system = 0.030000s CPU (705.4%)\n",
      "Fragments before: 8 1085\n",
      "Fragments after: 6 1085\n",
      "Connectors: 2 Extenders: 4\n",
      "Connections and extensions in  0.005141s wall, 0.010000s user + 0.000000s system = 0.010000s CPU (194.5%)\n",
      "Contigs out: 3 Genome: 2607 N50: 1647 L50: 1\n",
      "Assembled in  0.010927s wall, 0.040000s user + 0.000000s system = 0.040000s CPU (366.1%)\n",
      "\n",
      "\n",
      "Kmer len: 249\n",
      "Raw kmers: 46232 Memory needed (GB): 0.00399444 Memory available (GB): 29.9996 1 cycle(s) will be performed\n",
      "Distinct kmers: 1669\n",
      "Kmer count in  0.016770s wall, 0.090000s user + 0.010000s system = 0.100000s CPU (596.3%)\n",
      "Uniq kmers merging in  0.009167s wall, 0.010000s user + 0.010000s system = 0.020000s CPU (218.2%)\n",
      "Kmers branching in  0.001873s wall, 0.020000s user + 0.000000s system = 0.020000s CPU (1067.5%)\n",
      "Kmer: 249 Graph size: 1669 Contigs in: 3\n",
      "Valley: 0\n",
      "\n",
      "Mark used kmers in  0.001957s wall, 0.000000s user + 0.000000s system = 0.000000s CPU (n/a%)\n",
      "Kmers in multiple/single contigs: 0 1516\n",
      "Fragments before: 8 153\n",
      "Fragments after: 4 153\n",
      "New seeds: 0\n",
      "New seeds in  0.002938s wall, 0.020000s user + 0.000000s system = 0.020000s CPU (680.6%)\n",
      "Fragments before: 4 153\n",
      "Fragments after: 4 153\n",
      "Connectors: 0 Extenders: 4\n",
      "Connections and extensions in  0.004998s wall, 0.000000s user + 0.020000s system = 0.020000s CPU (400.2%)\n",
      "Contigs out: 3 Genome: 2607 N50: 1647 L50: 1\n",
      "Assembled in  0.010056s wall, 0.020000s user + 0.020000s system = 0.040000s CPU (397.8%)\n",
      "\n",
      "DONE\n",
      "\tCommand being timed: \"skesa --cores 16 --fastq kat.filter.kmer.in.R1.fastq,kat.filter.kmer.in.R2.fastq --contigs_out kat.filter.contigs.fasta --vector_percent 1\"\n",
      "\tUser time (seconds): 2.90\n",
      "\tSystem time (seconds): 0.17\n",
      "\tPercent of CPU this job got: 404%\n",
      "\tElapsed (wall clock) time (h:mm:ss or m:ss): 0:00.76\n",
      "\tAverage shared text size (kbytes): 0\n",
      "\tAverage unshared data size (kbytes): 0\n",
      "\tAverage stack size (kbytes): 0\n",
      "\tAverage total size (kbytes): 0\n",
      "\tMaximum resident set size (kbytes): 15272\n",
      "\tAverage resident set size (kbytes): 0\n",
      "\tMajor (requiring I/O) page faults: 0\n",
      "\tMinor (reclaiming a frame) page faults: 6365\n",
      "\tVoluntary context switches: 4085\n",
      "\tInvoluntary context switches: 102\n",
      "\tSwaps: 0\n",
      "\tFile system inputs: 0\n",
      "\tFile system outputs: 8\n",
      "\tSocket messages sent: 0\n",
      "\tSocket messages received: 0\n",
      "\tSignals delivered: 0\n",
      "\tPage size (bytes): 4096\n",
      "\tExit status: 0\n"
     ]
    }
   ],
   "source": [
    "conda run --name skesa /usr/bin/time -v skesa --cores ${threads} \\\n",
    "    --fastq kat.filter.kmer.in.R1.fastq,kat.filter.kmer.in.R2.fastq \\\n",
    "    --contigs_out kat.filter.contigs.fasta --vector_percent 1"
   ]
  },
  {
   "cell_type": "code",
   "execution_count": 12,
   "metadata": {},
   "outputs": [
    {
     "name": "stdout",
     "output_type": "stream",
     "text": [
      "-rw-r--r-- 1 apetkau grp_apetkau 2.7K Jan 15 22:54 kat.filter.contigs.fasta\n"
     ]
    }
   ],
   "source": [
    "ls -lh *.fasta"
   ]
  },
  {
   "cell_type": "code",
   "execution_count": 15,
   "metadata": {},
   "outputs": [
    {
     "name": "stdout",
     "output_type": "stream",
     "text": [
      "2020-01-15 22:55:32 INFO: No --pointfinder-organism specified. Will not search the PointFinder databases\n",
      "2020-01-15 22:55:32 INFO: No --plasmidfinder-database-type specified. Will search the entire PlasmidFinder database\n",
      "2020-01-15 22:55:32 INFO: --output-dir set. All files will be output to [kat-staramr-out]\n",
      "2020-01-15 22:55:32 INFO: Will exclude ResFinder/PointFinder genes listed in [/home/CSCScience.ca/apetkau/miniconda3/envs/staramr/lib/python3.7/site-packages/staramr/databases/exclude/data/genes_to_exclude.tsv]. Use --no-exclude-genes to disable\n",
      "2020-01-15 22:55:32 INFO: Making BLAST databases for input files\n",
      "2020-01-15 22:55:32 INFO: Scheduling blasts and MLST for kat.filter.contigs.fasta\n",
      "2020-01-15 22:55:32 INFO: Finished. Took 0.01 minutes.\n",
      "2020-01-15 22:55:32 INFO: Predicting AMR resistance phenotypes is enabled. The predictions are for microbiological resistance and *not* clinical resistance. These results are continually being improved and we welcome any feedback.\n",
      "2020-01-15 22:55:32 INFO: Writing resfinder to [kat-staramr-out/resfinder.tsv]\n",
      "2020-01-15 22:55:32 INFO: --output-dir or --output-pointfinder unset. No pointfinder file will be written\n",
      "2020-01-15 22:55:32 INFO: Writing plasmidfinder to [kat-staramr-out/plasmidfinder.tsv]\n",
      "2020-01-15 22:55:32 INFO: Writing summary to [kat-staramr-out/summary.tsv]\n",
      "2020-01-15 22:55:32 INFO: Writing MLST summary to [kat-staramr-out/mlst.tsv]\n",
      "2020-01-15 22:55:32 INFO: Writing detailed summary to [kat-staramr-out/detailed_summary.tsv]\n",
      "2020-01-15 22:55:32 INFO: Writing settings to [kat-staramr-out/settings.txt]\n",
      "2020-01-15 22:55:32 INFO: Writing Excel to [kat-staramr-out/results.xlsx]\n",
      "2020-01-15 22:55:33 INFO: BLAST hits are stored in [kat-staramr-out/hits]\n"
     ]
    }
   ],
   "source": [
    "conda run --name staramr staramr search -o kat-staramr-out kat.filter.contigs.fasta"
   ]
  },
  {
   "cell_type": "markdown",
   "metadata": {},
   "source": [
    "# Compare results (detected AMR)"
   ]
  },
  {
   "cell_type": "code",
   "execution_count": 16,
   "metadata": {},
   "outputs": [
    {
     "name": "stdout",
     "output_type": "stream",
     "text": [
      "Isolate ID\tGene\tPredicted Phenotype\t%Identity\t%Overlap\tHSP Length/Total Length\tContig\tStart\tEnd\tAccession\tSequence\n",
      "kat.filter.contigs\taadA1\tstreptomycin\t100.00\t100.00\t792/792\tContig_2_98.9478\t1219\t428\tJQ414041\tATGAGGGAAGCGGTGATCGCCGAAGTATCGACTCAACTATCAGAGGTAGTTGGCGTCATCGAGCGCCATCTCGAACCGACGTTGCTGGCCGTACATTTGTACGGCTCCGCAGTGGATGGCGGCCTGAAGCCACACAGTGATATTGATTTGCTGGTTACGGTGACCGTAAGGCTTGATGAAACAACGCGGCGAGCTTTGATCAACGACCTTTTGGAAACTTCGGCTTCCCCTGGAGAGAGCGAGATTCTCCGCGCTGTAGAAGTCACCATTGTTGTGCACGACGACATCATTCCGTGGCGTTATCCAGCTAAGCGCGAACTGCAATTTGGAGAATGGCAGCGCAATGACATTCTTGCAGGTATCTTCGAGCCAGCCACGATCGACATTGATCTGGCTATCTTGCTGACAAAAGCAAGAGAACATAGCGTTGCCTTGGTAGGTCCAGCGGCGGAGGAACTCTTTGATCCGGTTCCTGAACAGGATCTATTTGAGGCGCTAAATGAAACCTTAACGCTATGGAACTCGCCGCCCGACTGGGCTGGCGATGAGCGAAATGTAGTGCTTACGTTGTCCCGCATTTGGTACAGCGCAGTAACCGGCAAAATCGCGCCGAAGGATGTCGCTGCCGACTGGGCAATGGAGCGCCTGCCGGCCCAGTATCAGCCCGTCATACTTGAAGCTAGACAGGCTTATCTTGGACAAGAAGAAGATCGCTTGGCCTCCCGCGCAGATCAGTTGGAAGAATTTGTTCACTACGTGAAAGGCGAGATCACCAAGGTAGTCGGCAAATAA\n",
      "kat.filter.contigs\taadA2\tstreptomycin\t100.00\t84.23\t657/780\tContig_1_69.8226\t1\t657\tX68227\tACAGCGATATTGATTTGTTGGTTACTGTGGCCGTAAAGCTTGATGAAACGACGCGGCGAGCATTGCTCAATGACCTTATGGAGGCTTCGGCTTTCCCTGGCGAGAGCGAGACGCTCCGCGCTATAGAAGTCACCCTTGTCGTGCATGACGACATCATCCCGTGGCGTTATCCGGCTAAGCGCGAGCTGCAATTTGGAGAATGGCAGCGCAATGACATTCTTGCGGGTATCTTCGAGCCAGCCATGATCGACATTGATCTAGCTATCCTGCTTACAAAAGCAAGAGAACATAGCGTTGCCTTGGTAGGTCCGGCAGCGGAGGAATTCTTTGACCCGGTTCCTGAACAGGATCTATTCGAGGCGCTGAGGGAAACCTTGAAGCTATGGAACTCGCAGCCCGACTGGGCCGGCGATGAGCGAAATGTAGTGCTTACGTTGTCCCGCATTTGGTACAGCGCAATAACCGGCAAAATCGCGCCGAAGGATGTCGCTGCCGACTGGGCAATAAAACGCCTACCTGCCCAGTATCAGCCCGTCTTACTTGAAGCTAAGCAAGCTTATCTGGGACAAAAAGAAGATCACTTGGCCTCACGCGCAGATCACTTGGAAGAATTTATTCGCTTTGTGAAAGGCGAGATCATCAAGTCAGTTGGTAAAT\n"
     ]
    }
   ],
   "source": [
    "cat kat-staramr-out/resfinder.tsv"
   ]
  },
  {
   "cell_type": "code",
   "execution_count": 17,
   "metadata": {},
   "outputs": [
    {
     "name": "stdout",
     "output_type": "stream",
     "text": [
      "Isolate ID\tGene\tPredicted Phenotype\t%Identity\t%Overlap\tHSP Length/Total Length\tContig\tStart\tEnd\tAccession\tSequence\n",
      "SRR1952908\taadA1\tstreptomycin\t100.00\t100.00\t792/792\tcontig00030\t5355\t4564\tJQ414041\tATGAGGGAAGCGGTGATCGCCGAAGTATCGACTCAACTATCAGAGGTAGTTGGCGTCATCGAGCGCCATCTCGAACCGACGTTGCTGGCCGTACATTTGTACGGCTCCGCAGTGGATGGCGGCCTGAAGCCACACAGTGATATTGATTTGCTGGTTACGGTGACCGTAAGGCTTGATGAAACAACGCGGCGAGCTTTGATCAACGACCTTTTGGAAACTTCGGCTTCCCCTGGAGAGAGCGAGATTCTCCGCGCTGTAGAAGTCACCATTGTTGTGCACGACGACATCATTCCGTGGCGTTATCCAGCTAAGCGCGAACTGCAATTTGGAGAATGGCAGCGCAATGACATTCTTGCAGGTATCTTCGAGCCAGCCACGATCGACATTGATCTGGCTATCTTGCTGACAAAAGCAAGAGAACATAGCGTTGCCTTGGTAGGTCCAGCGGCGGAGGAACTCTTTGATCCGGTTCCTGAACAGGATCTATTTGAGGCGCTAAATGAAACCTTAACGCTATGGAACTCGCCGCCCGACTGGGCTGGCGATGAGCGAAATGTAGTGCTTACGTTGTCCCGCATTTGGTACAGCGCAGTAACCGGCAAAATCGCGCCGAAGGATGTCGCTGCCGACTGGGCAATGGAGCGCCTGCCGGCCCAGTATCAGCCCGTCATACTTGAAGCTAGACAGGCTTATCTTGGACAAGAAGAAGATCGCTTGGCCTCCCGCGCAGATCAGTTGGAAGAATTTGTTCACTACGTGAAAGGCGAGATCACCAAGGTAGTCGGCAAATAA\n",
      "SRR1952908\taadA2\tstreptomycin\t100.00\t100.00\t780/780\tcontig00030\t7748\t6969\tX68227\tGTGACCATCGAAATTTCGAACCAACTATCAGAGGTGCTAAGCGTCATTGAGCGCCATCTGGAATCAACGTTGCTGGCCGTGCATTTGTACGGCTCCGCAGTGGATGGCGGCCTGAAGCCATACAGCGATATTGATTTGTTGGTTACTGTGGCCGTAAAGCTTGATGAAACGACGCGGCGAGCATTGCTCAATGACCTTATGGAGGCTTCGGCTTTCCCTGGCGAGAGCGAGACGCTCCGCGCTATAGAAGTCACCCTTGTCGTGCATGACGACATCATCCCGTGGCGTTATCCGGCTAAGCGCGAGCTGCAATTTGGAGAATGGCAGCGCAATGACATTCTTGCGGGTATCTTCGAGCCAGCCATGATCGACATTGATCTAGCTATCCTGCTTACAAAAGCAAGAGAACATAGCGTTGCCTTGGTAGGTCCGGCAGCGGAGGAATTCTTTGACCCGGTTCCTGAACAGGATCTATTCGAGGCGCTGAGGGAAACCTTGAAGCTATGGAACTCGCAGCCCGACTGGGCCGGCGATGAGCGAAATGTAGTGCTTACGTTGTCCCGCATTTGGTACAGCGCAATAACCGGCAAAATCGCGCCGAAGGATGTCGCTGCCGACTGGGCAATAAAACGCCTACCTGCCCAGTATCAGCCCGTCTTACTTGAAGCTAAGCAAGCTTATCTGGGACAAAAAGAAGATCACTTGGCCTCACGCGCAGATCACTTGGAAGAATTTATTCGCTTTGTGAAAGGCGAGATCATCAAGTCAGTTGGTAAATGA\n",
      "SRR1952908\tblaTEM-57\tampicillin\t99.88\t100.00\t861/861\tcontig00032\t6247\t5387\tFJ405211\tATGAGTATTCAACATTTTCGTGTCGCCCTTATTCCCTTTTTTGCGGCATTTTGCCTTCCTGTTTTTGCTCACCCAGAAACGCTGGTGAAAGTAAAAGATGCTGAAGATCAGTTGGGTGCACGAGTGGGTTACATCGAACTGGATCTCAACAGCGGTAAGATCCTTGAGAGTTTTCGCCCCGAAGAACGTTTTCCAATGATGAGCACTTTTAAAGTTCTGCTATGTGGTGCGGTATTATCCCGTGTTGACGCCGGGCAAGAGCAACTCGATCGCCGCATACACTATTCTCAGAATGACTTGGTTGAGTACTCACCAGTCACAGAAAAGCATCTTACGGATGGCATGACAGTAAGAGAATTATGCAGTGCTGCCATAACCATGAGTGATAACACTGCTGCCAACTTACTTCTGACAACGATCGGAGGACCGAAGGAGCTAACCGCTTTTTTGCACAACATGGGGGATCATGTAACTCGCCTTGATCGTTGGGAACCGGAGCTGAATGAAGCCATACCAAACGACGAGCGTGACACCACGATGCCTGCAGCAATGGCAACAACGTTGCGCAAACTATTAACTGGCGAACTACTTACTCTAGCTTCCCGGCAACAATTAATAGACTGGATGGAGGCGGATAAAGTTGCAGGACCACTTCTGCGCTCGGCCCTTCCGGCTGGCTGGTTTATTGCTGATAAATCTGGAGCCGGTGAGCGTGGGTCTCGCGGTATCATTGCAGCACTGGGGCCAGATGGTAAGCCCTCCCGTATCGTAGTTATCTACACGACGGGGAGTCAGGCAACTATGGATGAACGAAATAGACAGATCGCTGAGATAGGTGCCTCACTGATTAAGCATTGGTAA\n",
      "SRR1952908\tcmlA1\tchloramphenicol\t99.92\t100.00\t1260/1260\tcontig00030\t6707\t5448\tM64556\tGTGAGCTCAAAAAACTTTAGTTGGCGGTACTCCCTTGCCGCCACGGTGTTGTTGTTATCACCGTTCGATTTATTGGCATCACTCGGCATGGACATGTACTTGCCAGCAGTGCCGTTTATGCCAAACGCGCTTGGTACGACAGCGAGCACAATTCAGCTTACGCTGACAACGTACTTGGTCATGATTGGTGCCGGTCAGCTCTTGTTTGGACCGCTATCGGACCGACTGGGGCGCCGCCCCGTTCTACTGGGAGGTGGCCTCGCCTACGTTGTGGCGTCAATGGGCCTCGCTCTTACGTCATCGGCTGAAGTCTTTCTGGGGCTTCGGATTCTTCAGGCTTGTGGTGCCTCGGCGTGCCTTGTTTCCACATTTGCAACAGTACGTGACATTTACGCAGGTCGCGAGGAAAGTAATGTCATTTACGGCATACTCGGATCCATGCTGGCCATGGTCCCGGCGGTAGGCCCATTGCTCGGAGCGCTCGTCGACATGTGGCTTGGGTGGCGGGCTATCTTTGCGTTTCTAGGTTTGGGCATGATCGCTGCATCTGCAGCAGCGTGGCGATTCTGGCCTGAAACCCGGGTGCAACGAGTTGCGGGCTTGCAATGGTCGCAGCTGCTACTCCCCGTTAAGTGCCTGAACTTCTGGTTGTACACGTTGTGTTACGCCGCTGGAATGGGTAGCTTCTTCGTCTTTTTCTCCATTGCGCCCGGACTAATGATGGGCAGGCAAGGTGTGTCTCAGCTTGGCTTCAGCCTGCTGTTCGCCACAGTGGCAATTGCCATGGTGTTTACGGCTCGTTTTATGGGGCGTGTGATACCCAAGTGGGGCAGCCCAAGTGTCTTGCGAATGGGAATGGGATGCCTGATAGCTGGAGCAGTATTGCTTGCCATCACCGAAATATGGGCTTTGCAGTCCGTGTTAGGCTTTATTGCTCCAATGTGGCTAGTGGGTATTGGTGTCGCCACAGCGGTATCTGTGGCGCCCAATGGCGCTCTTCGAGGATTCGACCATGTTGCTGGAACGGTCACGGCAGTCTACTTCTGCTTGGGCGGTGTACTGCTAGGAAGCATCGGAACGTTGATCATTTCGCTGTTGCCGCGCAACACGGCTTGGCCGGTTGTCGTGTACTGTTTGACCCTTGCAACAGTCGTGCTCGGTCTGTCTTGTGTTTCCCGAGTGAAGGGCTCTCGCGGCCAGGGGGAGCATGATGTGGTCGCGCTACAAAGTGCGGAAAGTACATCAAATCCCAATCGTTGA\n",
      "SRR1952908\tsul3\tsulfisoxazole\t100.00\t100.00\t792/792\tcontig00030\t2091\t2882\tAJ459418\tATGAGCAAGATTTTTGGAATCGTAAATATAACCACCGATAGTTTTTCCGATGGAGGACTTTATTTAGATACAGATAAGGCAATTGAGCATGCTCTGCATTTGGTTGAAGATGGAGCAGATGTGATTGATTTGGGAGCCGCTTCCAGTAATCCTGATACAACTGAAGTGGGCGTTGTGGAAGAAATCAAAAGACTCAAACCTGTCATTAAGGCTTTAAAAGAAAAAGGCATTTCTATTTCTGTTGATACATTTAAACCTGAGGTTCAGAGTTTTTGCATAGAACAAAAGGTTGATTTTATTAATGATATTCAAGGTTTTCCTTATCCTGAGATTTATTCAGGCTTGGCAAAGTCAGATTGCAAACTTGTGTTGATGCACTCCGTTCAGCGAATTGGTGCAGCTACTAAAGTTGAAACGAATCCGGAAGAGGTTTTTACTTCCATGATGGAATTTTTTAAAGAAAGAATTGCTGCTTTAGTTGAGGCTGGTGTAAAGCGTGAACGAATTATTCTTGATCCGGGTATGGGCTTCTTTTTAGGCTCTAATCCAGAAACATCTATTCTTGTTTTGAAGCGTTTCCCTGAAATTCAAGAAGCTTTTAATTTGCAAGTAATGATTGCAGTGTCACGGAAATCATTCTTAGGTAAAATAACTGGAACCGATGTGAAATCTCGTTTAGCACCAACTCTTGCAGCAGAAATGTATGCATACAAAAAAGGTGCAGATTATCTCCGCACCCATGATGTTAAGTCTTTATCAGATGCCTTGAAAATATCCAAAGCCCTAGGTTAG\n",
      "SRR1952908\ttet(A)\ttetracycline\t99.92\t97.80\t1247/1275\tcontig00032\t1476\t2722\tAF534183\tATGTCCACCAACTTATCAGTGATAAAGAATCCGCGCGTTCAATCGGACCAGCGGAGGCTGGTCCGGAGGCCAGACGTGAAACCCAACAGACCCCTGATCGTAATTCTGAGCACTGTCGCGCTCGACGCTGTCGGCATCGGCCTGATTATGCCGGTGCTGCCGGGCCTCCTGCGCGATCTGGTTCACTCGAACGACGTCACCGCCCACTATGGCATTCTGCTGGCGCTGTATGCGTTGATGCAATTTGCCTGCGCACCTGTGCTGGGCGCGCTGTCGGATCGTTTCGGGCGGCGGCCGGTCTTGCTCGTCTCGCTGGCCGGCGCTGCTGTCGACTACGCCATCATGGCGACGGCGCCTTTCCTTTGGGTTCTCTATATCGGGCGGATCGTGGCCGGCATCACCGGGGCGACTGGGGCGGTAGCCGGCGCTTATATTGCCGATATCACTGATGGCGATGAGCGCGCGCGGCACTTCGGCTTCATGAGCGCCTGTTTCGGGTTCGGGATGGTCGCGGGACCTGTGCTCGGTGGGCTGATGGGCGATTTCTCCCCCCACGCTCCGTTCTTCGCCGCGGCAGCCTTGAACGGCCTCAATTTCCTGACGGGCTGTTTCCTTTTGCCGGAGTCGCACAAAGGCGAACGCCGGCCGTTACGCCGGGAGGCTCTCAACCCGCTCGCTTCGTTCCGGTGGGCCCGGGGCATGACCGTCGTCGCCGCCCTGATGGCGGTCTTCTTCATCATGCAACTTGTCGGACAGGTGCCGGCCGCGCTTTGGGTCATTTTCGGCGAGGATCGCTTTCACTGGGACGCGACCACGATCGGCATTTCGCTTGCCGCATTTGGCATTCTGCATTCACTCGCCCAGGCAATGATCACCGGCCCTGTAGCCGCCCGGCTCGGCGAAAGGCGGGCACTCATGCTCGGAATGATTGCCGACGGCACAGGCTACATCCTGCTTGCCTTCGCGACACGGGGATGGATGGCGTTCCCGATCATGGTCCTGCTTGCTTCGGGTGGCATCGGAATGCCGGCGCTGCAAGCAATGTTGTCCAGGCAGGTGGATGAGGAACGTCAGGGGCAGCTGCAAGGCTCACTGGCGGCGCTCACCAGCCTGACCTCGATCGTCGGACCCCTCCTCTTCACGGCGATCTATGCGGCTTCTATAACAACGTGGAACGGGTGGGCATGGATTGCAGGCGCTGCCCTCTACTTGCTCTGCCTGCCGGCGCTGCGTCGCGGGCTTTGGAG\n"
     ]
    }
   ],
   "source": [
    "cat staramr-out/resfinder.tsv"
   ]
  }
 ],
 "metadata": {
  "kernelspec": {
   "display_name": "Bash",
   "language": "bash",
   "name": "bash"
  },
  "language_info": {
   "codemirror_mode": "shell",
   "file_extension": ".sh",
   "mimetype": "text/x-sh",
   "name": "bash"
  }
 },
 "nbformat": 4,
 "nbformat_minor": 4
}
